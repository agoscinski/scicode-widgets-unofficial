{
 "cells": [
  {
   "cell_type": "code",
   "execution_count": 1,
   "metadata": {},
   "outputs": [],
   "source": [
    "%load_ext autoreload\n",
    "%autoreload 2"
   ]
  },
  {
   "cell_type": "code",
   "execution_count": 2,
   "metadata": {},
   "outputs": [
    {
     "data": {
      "text/html": [
       "<style>.scwidget-button{\n",
       "    border :  3px solid;\n",
       "    border-color: #f4f2f0;\n",
       "    background-color: #f4f2f0;\n",
       "    height: auto;\n",
       "}\n",
       ".scwidget-button--out-of-date{\n",
       "    border-color: #e95420;\n",
       "}\n",
       ".scwidget-button--unchecked{\n",
       "    border-color: #20b5e9;\n",
       "}\n",
       ".scwidget-button--unsaved{\n",
       "    border-color: #77216f;\n",
       "}\n",
       "\n",
       ".scwidget-box{\n",
       "    border : 1px solid;\n",
       "    border-color: #f4f2f0;\n",
       "    background-color: #f4f2f0;\n",
       "}\n",
       ".scwidget-box--out-of-date{\n",
       "    border-color: #e95420;\n",
       "    background-color: #e95420;\n",
       "}\n",
       ".scwidget-box--unchecked{\n",
       "    border-color: #20b5e9;\n",
       "    background-color: #20b5e9;\n",
       "}\n",
       ".scwidget-box--unsaved{\n",
       "    border-color: #77216f;\n",
       "    background-color: #77216f;\n",
       "}\n",
       "\n",
       ".scwidget-visualizer{\n",
       "    opacity: 1.0;\n",
       "}\n",
       ".scwidget-visualizer--out-of-date{\n",
       "    opacity: 0.4;\n",
       "}\n",
       "\n",
       ".scwidget-loading-image{\n",
       "    opacity: 0.0;\n",
       "}\n",
       ".scwidget-loading-image--updating{\n",
       "    opacity: 1.0;\n",
       "}\n",
       ".scwidget-loading-image--checking{\n",
       "    opacity: 1.0;\n",
       "}\n",
       "</style>"
      ],
      "text/plain": [
       "<IPython.core.display.HTML object>"
      ]
     },
     "metadata": {},
     "output_type": "display_data"
    }
   ],
   "source": [
    "%matplotlib widget\n",
    "import numpy as np\n",
    "import scipy as sp\n",
    "import matplotlib as mpl\n",
    "import matplotlib.pyplot as plt\n",
    "import chemiscope\n",
    "from scwidgets import (AnswerRegistry, TextareaAnswer, CodeDemo,\n",
    "                       ParametersBox, PyplotOutput, ClearedOutput,\n",
    "                       AnimationOutput,CodeCheckerRegistry, GLOBAL_TRAITS)\n",
    "#no more  CodeChecker\n",
    "from widget_code_input import WidgetCodeInput\n",
    "from ipywidgets import Layout, Output, Textarea\n",
    "from ase import Atoms"
   ]
  },
  {
   "cell_type": "code",
   "execution_count": 3,
   "metadata": {
    "code_folding": []
   },
   "outputs": [],
   "source": [
    "#### AVOID folding of output cell "
   ]
  },
  {
   "cell_type": "code",
   "execution_count": 4,
   "metadata": {},
   "outputs": [
    {
     "data": {
      "text/html": [
       "<style>\n",
       ".output_wrapper, .output {\n",
       "    height:auto !important;\n",
       "    max-height:4000px;  /* your desired max-height here */\n",
       "}\n",
       ".output_scroll {\n",
       "    box-shadow:none !important;\n",
       "    webkit-box-shadow:none !important;\n",
       "}\n",
       "</style>\n"
      ],
      "text/plain": [
       "<IPython.core.display.HTML object>"
      ]
     },
     "metadata": {},
     "output_type": "display_data"
    }
   ],
   "source": [
    "%%html\n",
    "<style>\n",
    ".output_wrapper, .output {\n",
    "    height:auto !important;\n",
    "    max-height:4000px;  /* your desired max-height here */\n",
    "}\n",
    ".output_scroll {\n",
    "    box-shadow:none !important;\n",
    "    webkit-box-shadow:none !important;\n",
    "}\n",
    "</style>"
   ]
  },
  {
   "cell_type": "markdown",
   "metadata": {},
   "source": [
    "# Introduction to atomic-scale modeling"
   ]
  },
  {
   "cell_type": "markdown",
   "metadata": {},
   "source": [
    "This course provides a hands-on introduction to the modeling of materials at the atomic scale. \n",
    "The purpose is both to provide a first example of the application of some of the techniques used to predict and characterize the behavior of materials in terms of the fundamental physical laws that govern the interactions between their atoms, as well as to demonstrate in a practical, numerical way some of the foundational concepts of materials science, such as the formation of crystal structures, \n",
    "\n",
    "The course is organized as a series of Jupyter notebooks, each covering one module:\n",
    "\n",
    "1. [Atomic structures on a computer](./01-Atomic_scale_structures.ipynb)\n",
    "2. [Crystallography and diffraction](./02-Crystallography.ipynb)\n",
    "3. [Vibrations in solids, phonons](./03-Lattice_dynamics.ipynb)\n",
    "4. [Interatomic potentials](./04-Potentials.ipynb)\n",
    "5. [Defects in solids](./05-Defects.ipynb)\n",
    "6. [Molecular dynamics](./06-Molecular_dynamics.ipynb)\n",
    "7. [Machine learning](./07-Machine_learning.ipynb)"
   ]
  },
  {
   "cell_type": "markdown",
   "metadata": {},
   "source": [
    "# Course how-to"
   ]
  },
  {
   "cell_type": "markdown",
   "metadata": {},
   "source": [
    "The course contains a combination of text-book-style explanations, simple mathematical derivations, and interactive widgets in which you need to manipulate functions or atomic structures, and/or enter short snippets of code. The course material is conceived so that minimal amounts of prior knowledge about Python or Jupyter notebooks is needed, but you will have to do _some_ coding. Looking up examples and documentation online is fine, and even encouraged."
   ]
  },
  {
   "cell_type": "markdown",
   "metadata": {},
   "source": [
    "### Checking your work\n",
    "\n",
    "All the courses modules have an accompanying `module_XX_checker.json` file containing tests for coding exercises. These tests are meant to help you control the correctness of your code and may be used for grading. \n",
    "\n",
    "Each coding exercises with checks have a \"Check code\" button, which you can click to control your answer before saving and/or submitting the notebook to grading.\n",
    "\n",
    "__Do not move, erase of modify the__ `module_XX_checker.json` __file.__  If you have any problems, contact a teacher or teaching assistant."
   ]
  },
  {
   "cell_type": "code",
   "execution_count": 5,
   "metadata": {},
   "outputs": [],
   "source": [
    "GLOBAL_TRAITS.teacher_mode = True\n"
   ]
  },
  {
   "cell_type": "code",
   "execution_count": 6,
   "metadata": {},
   "outputs": [
    {
     "data": {
      "application/vnd.jupyter.widget-view+json": {
       "model_id": "88b2bd4ef3f945f8b72959e74ce44e72",
       "version_major": 2,
       "version_minor": 0
      },
      "text/plain": [
       "CodeCheckerRegistry(children=(Output(layout=Layout(height='100%', width='100%')), Box(children=(Button(descrip…"
      ]
     },
     "metadata": {},
     "output_type": "display_data"
    }
   ],
   "source": [
    "check_registry = CodeCheckerRegistry('module_0_checker.json') \n",
    "display(check_registry)"
   ]
  },
  {
   "cell_type": "markdown",
   "metadata": {},
   "source": [
    "### Saving your work\n",
    "At the top of each notebook you will find a text box to enter your name. This will also be used to create a file in which you can save (and load from) the data you have entered into exercises and text widgets. We suggest to use `SurnameName`, which will lead to a file named `module_XX-SurnameName.json`. If you are looking at these notebooks as part of a formal course, you will be able to send these for grading. \n",
    "\n",
    "_NB: the state of the widgets is not saved automatically, so remember to click \"Save\" once you are done with a notebook_"
   ]
  },
  {
   "cell_type": "code",
   "execution_count": 7,
   "metadata": {},
   "outputs": [
    {
     "data": {
      "application/vnd.jupyter.widget-view+json": {
       "model_id": "96e6cd639cf34cc2802126de83652ddb",
       "version_major": 2,
       "version_minor": 0
      },
      "text/plain": [
       "AnswerRegistry(children=(Output(layout=Layout(height='100%', width='100%')), HBox(children=(Dropdown(descripti…"
      ]
     },
     "metadata": {},
     "output_type": "display_data"
    }
   ],
   "source": [
    "answer_registry = AnswerRegistry(prefix=\"module_0\")\n",
    "display(answer_registry)"
   ]
  },
  {
   "cell_type": "code",
   "execution_count": 8,
   "metadata": {},
   "outputs": [
    {
     "data": {
      "application/vnd.jupyter.widget-view+json": {
       "model_id": "e4b1054f7f254226b9ee8aa2769d62f0",
       "version_major": 2,
       "version_minor": 0
      },
      "text/plain": [
       "TextareaAnswer(children=(HBox(children=(CodeDemoBox(_dom_classes=('scwidget-box', 'scwidget-box--unsaved')), T…"
      ]
     },
     "metadata": {},
     "output_type": "display_data"
    }
   ],
   "source": [
    "module_summary = TextareaAnswer(\"general comments on this module\", layout=Layout(width=\"100%\"))\n",
    "answer_registry.register_answer_widget(\"module-summary\", module_summary)\n",
    "display(module_summary)"
   ]
  },
  {
   "cell_type": "markdown",
   "metadata": {},
   "source": [
    "<span style=\"color:blue\">\n",
    "<br><b>01</b> Throughout the notebook you will find highlighted paragraphs with a bold number.  These are instructions that you need to follow to answer some exercises, or comment on what you observe in interactive widgets. \n",
    "</span>\n",
    "\n",
    "This might imply typing some open answer commenting the results you are seeing, or reporting the result of some simple derivation. Please keep this as tidy and clean: be concise and to the point, this is to help you collect your thoughts as much as to provide evaluation. "
   ]
  },
  {
   "cell_type": "markdown",
   "metadata": {},
   "source": [
    "# Appmode and dependencies"
   ]
  },
  {
   "cell_type": "markdown",
   "metadata": {},
   "source": [
    "The notebooks use the *Appmode* Jupyter plugin, which you can activate by clicking on the corresponding button\n",
    "<img src=\"figures/appmode_button.png\" width=\"100\"/>\n",
    "and can be run with minimal knowledge of the Python language. Students with stronger programming background, who want to look \"under the hood\" can look directly at the source code before switching to Appmode to run them - or run the cells directly without activating the Appmode."
   ]
  },
  {
   "cell_type": "markdown",
   "metadata": {},
   "source": [
    "If you are using these notebooks as part of a class, hopefully you will be running them already in a fully-configured environment. If instead you are using them on your own system, you may need to install several prerequisite. From the main folder, run `pip install -r requirements.txt`, or a similar command with your favourite Python package manager"
   ]
  },
  {
   "cell_type": "markdown",
   "metadata": {},
   "source": [
    "# Interactive widgets"
   ]
  },
  {
   "cell_type": "markdown",
   "metadata": {},
   "source": [
    "The notebooks often contain interactive widgets that can be manipulated by changing some slider values, to visualize the concepts being discussed. Usually these don't require any coding, just to follow some instructions and/or to experiment with the values do develop a more intuitive understanding of the significance of an equation, or to test its limits."
   ]
  },
  {
   "cell_type": "code",
   "execution_count": 9,
   "metadata": {},
   "outputs": [],
   "source": [
    "def plot_sine(ax, w, a, abval):\n",
    "    xgrid = np.linspace(0,5,100)\n",
    "    ax = ax[0]\n",
    "    if abval:\n",
    "        ax.plot(xgrid, np.abs(a*np.sin(xgrid*w)))\n",
    "        ax.set_ylabel(r\"$|\\sin x|$\")\n",
    "    else:\n",
    "        ax.plot(xgrid, a*np.sin(xgrid*w))\n",
    "        ax.set_ylabel(r\"$\\sin x$\")\n",
    "    ax.set_xlabel(\"$x$\")\n",
    "    \n",
    "\n",
    "    "
   ]
  },
  {
   "cell_type": "code",
   "execution_count": 10,
   "metadata": {},
   "outputs": [],
   "source": [
    "sine_parameterbox = ParametersBox(w = (2.0, 0, 10, 0.1, r'$\\omega$'), a = (2., 1,100, 2, r'$A$'), \n",
    "                                      abval=(False, r'Absolute value'))\n",
    "example_fig = plt.figure()\n",
    "example_fig.add_subplot(111)\n",
    "example_pyplot_output =  PyplotOutput(example_fig)\n",
    "axes_example = example_pyplot_output.figure.get_axes()\n",
    "plot_sine(axes_example,sine_parameterbox.value['w'],sine_parameterbox.value['a'],sine_parameterbox.value['abval'])\n",
    "\n",
    "def update_visualizers(w,a, abval, visualizers):\n",
    "    pyplot_output = visualizers[0]\n",
    "    axes = pyplot_output.figure.get_axes()\n",
    "    plot_sine(axes,w,a,abval)\n",
    "p = CodeDemo(\n",
    "            input_parameters_box = sine_parameterbox,\n",
    "            visualizers=[example_pyplot_output],\n",
    "            update_visualizers=update_visualizers\n",
    "            ) "
   ]
  },
  {
   "cell_type": "markdown",
   "metadata": {},
   "source": [
    "A sine function $y = A \\sin \\omega x$ oscillates with a period $2\\pi/\\omega$ amd an amplitude spanning the range $[-A,A]$."
   ]
  },
  {
   "cell_type": "code",
   "execution_count": 11,
   "metadata": {},
   "outputs": [
    {
     "data": {
      "application/vnd.jupyter.widget-view+json": {
       "model_id": "2ffb2991a9bb4a3b9262ccff5e797e3e",
       "version_major": 2,
       "version_minor": 0
      },
      "text/plain": [
       "CodeDemo(children=(HBox(children=(ParametersBox(children=(HBox(children=(CodeDemoBox(_dom_classes=('scwidget-b…"
      ]
     },
     "metadata": {},
     "output_type": "display_data"
    }
   ],
   "source": [
    "p.run_and_display_demo()"
   ]
  },
  {
   "cell_type": "code",
   "execution_count": 12,
   "metadata": {},
   "outputs": [],
   "source": [
    "structure = Atoms(\"OH2\", positions=[[0,0,0], [0.7,0.5,0],  [-0.7,0.5,0]])\n",
    "\n",
    "cs1 = chemiscope.show([structure], mode=\"structure\")"
   ]
  },
  {
   "cell_type": "markdown",
   "metadata": {},
   "source": [
    "We can also display atomic structures in a dedicated [chemiscope](https://chemiscope.org/) widget."
   ]
  },
  {
   "cell_type": "code",
   "execution_count": 13,
   "metadata": {},
   "outputs": [
    {
     "data": {
      "application/vnd.jupyter.widget-view+json": {
       "model_id": "b1e26ec8aa9c40fba79c05c4afddf72e",
       "version_major": 2,
       "version_minor": 0
      },
      "text/plain": [
       "StructureWidget(value='{\"meta\": {\"name\": \" \"}, \"structures\": [{\"size\": 3, \"names\": [\"O\", \"H\", \"H\"], \"x\": [0.0,…"
      ]
     },
     "metadata": {},
     "output_type": "display_data"
    }
   ],
   "source": [
    "display(cs1)"
   ]
  },
  {
   "cell_type": "markdown",
   "metadata": {},
   "source": [
    "# Code widgets"
   ]
  },
  {
   "cell_type": "markdown",
   "metadata": {},
   "source": [
    "Some exercises require inputting short code snippets into a dedicated code widget. This code forms the body of a function, whose return value can then be checked by plotting, or by comparison with known reference values. The function is compiled as a stand-alone python code, so you can only use variables and modules that are defined or imported within its scope."
   ]
  },
  {
   "cell_type": "code",
   "execution_count": 17,
   "metadata": {
    "scrolled": true
   },
   "outputs": [
    {
     "data": {
      "application/vnd.jupyter.widget-view+json": {
       "model_id": "46bc258167c3475ab837c51119bc5ebd",
       "version_major": 2,
       "version_minor": 0
      },
      "text/plain": [
       "CodeDemo(children=(HBox(children=(CodeDemoBox(_dom_classes=('scwidget-box',)), CodeDemoBox(_dom_classes=('scwi…"
      ]
     },
     "metadata": {},
     "output_type": "display_data"
    }
   ],
   "source": [
    "GLOBAL_TRAITS.teacher_mode=True\n",
    "\n",
    "cw = WidgetCodeInput(\n",
    "        function_name=\"plot_function\", \n",
    "        function_parameters=\"x, a, w, f_abs\",\n",
    "        code_theme = \"default\",\n",
    "        docstring=\"\"\"\n",
    "Computes the sine function with a given frequency and amplitude, optionally taking the absolute value\n",
    "\n",
    ":param x: the input variable\n",
    ":param a: the amplitude\n",
    ":param w: the frequency\n",
    ":param f_abs: bool: take the absolute value?\n",
    "\n",
    ":return: abs(a*sin(w x)) if f_abs else a*sin(w x)\n",
    "\"\"\",\n",
    "            function_body=\"\"\"\n",
    "# Write your solution, then click on the button below to update the plotter and check against the reference values\n",
    "import numpy as np\n",
    "return 0.0*np.array(x)\n",
    "\"\"\"\n",
    "        )\n",
    "\n",
    "# Correct answer, only for testing purposes:\n",
    "cw.function_body = \"\"\"\n",
    "import numpy as np\n",
    "if not f_abs:\n",
    "\treturn a*np.sin(w*x)\n",
    "else:\n",
    "\treturn np.abs(a*np.sin(w*x))\n",
    "\"\"\"\n",
    "\n",
    "#We prepare the visualization and their update callback:\n",
    "fig2 = plt.figure()\n",
    "fig2.add_subplot(111)\n",
    "sine_pyplot_output_exercise =  PyplotOutput(fig2)\n",
    "\n",
    "sine_parameterbox = ParametersBox(a = (2., 1,100, 2, r'$A$'), w = (2.0, 0, 10, 0.1, r'$\\omega$'),\n",
    "                                       abval=(False, r'Absolute value'))\n",
    "axes_exercise = sine_pyplot_output_exercise.figure.get_axes()\n",
    "\n",
    "\n",
    "def code_update_visualizer(a,w,abval,code_input,visualizers):\n",
    "    pyplot_output = visualizers[0]\n",
    "    axes = pyplot_output.figure.get_axes()\n",
    "    ax = axes[0]\n",
    "    sine_func = code_input.get_function_object()\n",
    "    xgrid = np.linspace(0,5,100)\n",
    "    ax.plot(xgrid,sine_func(xgrid,a,w,abval))\n",
    "    ax.set_ylabel(r\"$\\sin x$\")\n",
    "    ax.set_xlabel(\"$x$\")\n",
    "    \n",
    "#Initialize CodeDemo and initialize it's checks in the check_registry:\n",
    "sine_code_demo = CodeDemo( \n",
    "            code_input = cw,\n",
    "            code_checker=check_registry,\n",
    "            input_parameters_box = sine_parameterbox,\n",
    "            visualizers=[sine_pyplot_output_exercise],\n",
    "            update_visualizers=code_update_visualizer,\n",
    "            ) \n",
    "\n",
    "#This line is here only to clean checks for prototyping, not a part of the module:\n",
    "check_registry.init_checks(\"sine_code_demo\", sine_code_demo) # resets existing checks\n",
    "input_parameters_exercise1 = [{\"x\" : 1, \"a\" : 1, \"w\" : 1, \"abs\" : True},\n",
    "                              {\"x\" : np.pi/2, \"a\" : 2, \"w\" : 1, \"abs\" : False},\n",
    "                              {\"x\" : 0, \"a\" : 3, \"w\" : 0.5, \"abs\" : True}]\n",
    "                              \n",
    "check_registry.add_check(\"sine_code_demo\",\n",
    "                         input_parameters_exercise1, equal_function=np.allclose) # np.allclose is automatically chosen\n",
    "\n",
    "sine_code_demo.run_and_display_demo()"
   ]
  },
  {
   "cell_type": "markdown",
   "metadata": {},
   "source": [
    "These can also be combined with a structure visualizer to generate atomic structures"
   ]
  },
  {
   "cell_type": "code",
   "execution_count": 15,
   "metadata": {},
   "outputs": [],
   "source": [
    "cw2 = WidgetCodeInput(\n",
    "        function_name=\"write_structure\", \n",
    "        function_parameters=\"\",\n",
    "        code_theme = \"default\",\n",
    "        docstring=\"\"\"\n",
    "Generate an atomic structure for water, with a structure corresponding to the XYZ file\n",
    "3\n",
    "H2O molecule\n",
    "O  0   0   0\n",
    "H  0.7 0.5 0\n",
    "H -0.7 0.5 0\n",
    "\n",
    ":return: an ASE atoms object that can be visualized in a 3D structure viewer\n",
    "\"\"\",\n",
    "            function_body=\"\"\"\n",
    "# Write your solution, then click on the button below to update the plotter and check against the reference values\n",
    "import ase\n",
    "\n",
    "structure = ase.Atoms(\"OH2\", positions=[[0,0,0],[0.7,0.5,0],[-0.7,0.5,0]])\n",
    "\n",
    "# you can also print messages to debug (they will appear in the space below the widget)\n",
    "#print(\"Structure symbols: \", structure.symbols)\n",
    "\n",
    "# and even plot stuff if you feel like (uncomment to see this)\n",
    "# import matplotlib.pyplot as plt\n",
    "# plt.clf()\n",
    "# plt.plot([0, 1, 2], [0, 1, 4], 'r*')\n",
    "# plt.show()\n",
    "\n",
    "# ... where errors will also appear (uncomment this line)\n",
    "# p = ase.nonexistentcall\n",
    "\n",
    "return structure\n",
    "\"\"\"\n",
    "        )"
   ]
  },
  {
   "cell_type": "code",
   "execution_count": 16,
   "metadata": {
    "scrolled": false
   },
   "outputs": [
    {
     "data": {
      "application/vnd.jupyter.widget-view+json": {
       "model_id": "898ce1b4df6546818a3faf3f46205c36",
       "version_major": 2,
       "version_minor": 0
      },
      "text/plain": [
       "CodeDemo(children=(HBox(children=(CodeDemoBox(_dom_classes=('scwidget-box',)), CodeDemoBox(_dom_classes=('scwi…"
      ]
     },
     "metadata": {},
     "output_type": "display_data"
    }
   ],
   "source": [
    "def cs_match(a, b):\n",
    "    return (str(b.symbols) == a[0]) and np.allclose(b.positions, a[1])    \n",
    "\n",
    "\n",
    "\n",
    "input_args = {\n",
    "        (): (\"OH2\", [[0,0,0], [0.7,0.5,0],  [-0.7,0.5,0]]) }, \n",
    "\n",
    "\n",
    "\n",
    "def chemiscope_update_visualizers_structure(code_input, visualizers):\n",
    "    cleared_output = visualizers[0]\n",
    "    frame = code_input.get_function_object()()\n",
    "    with cleared_output:\n",
    "        chemiscope_widget = chemiscope.show(frames = [frame], mode=\"structure\")\n",
    "        display(chemiscope_widget)\n",
    "\n",
    "\n",
    "    \n",
    "def custom_assert_function(atom1, atom2):\n",
    "    #Can have custom asserts:\n",
    "    assert 8 == atom1.numbers[0], \"The oxygen atom goes in the middle of the molecule!\"\n",
    "    assert 1 in atom1.numbers, \"Hydrogen expected in the molecule. No hydrogen was found\"\n",
    "    #Must have a boolean return:\n",
    "    assert np.allclose(atom1.positions,atom2.positions), f\"Expected positions:\\n{atom2.positions}\\nbut got:\\n{atom1.positions}\"\n",
    "    assert np.allclose(atom1.numbers,atom2.numbers), f\"Expected numbers:\\n{atom2.numbers}\\nbut got:\\n{atom1.numbers}\"\n",
    "    return True\n",
    "\n",
    "cs_code_demo = CodeDemo(\n",
    "    code_input = cw2,\n",
    "    code_checker= check_registry,\n",
    "    visualizers=[ClearedOutput()],\n",
    "    update_visualizers=chemiscope_update_visualizers_structure,\n",
    "    update_on_input_parameter_change = False\n",
    ")\n",
    "check_registry.init_checks(\"cs_code_demo\",cs_code_demo)\n",
    "check_registry.add_check(\"cs_code_demo\",{}, assert_function=custom_assert_function)\n",
    "\n",
    "cs_code_demo.run_and_display_demo()"
   ]
  },
  {
   "cell_type": "code",
   "execution_count": null,
   "metadata": {},
   "outputs": [],
   "source": []
  }
 ],
 "metadata": {
  "kernelspec": {
   "display_name": "Python 3 (ipykernel)",
   "language": "python",
   "name": "python3"
  },
  "language_info": {
   "codemirror_mode": {
    "name": "ipython",
    "version": 3
   },
   "file_extension": ".py",
   "mimetype": "text/x-python",
   "name": "python",
   "nbconvert_exporter": "python",
   "pygments_lexer": "ipython3",
   "version": "3.7.13"
  },
  "latex_envs": {
   "LaTeX_envs_menu_present": true,
   "autoclose": false,
   "autocomplete": true,
   "bibliofile": "biblio.bib",
   "cite_by": "apalike",
   "current_citInitial": 1,
   "eqLabelWithNumbers": true,
   "eqNumInitial": 1,
   "hotkeys": {
    "equation": "Ctrl-E",
    "itemize": "Ctrl-I"
   },
   "labels_anchors": false,
   "latex_user_defs": false,
   "report_style_numbering": false,
   "user_envs_cfg": false
  },
  "toc": {
   "base_numbering": 1,
   "nav_menu": {
    "height": "160px",
    "width": "252px"
   },
   "number_sections": true,
   "sideBar": true,
   "skip_h1_title": false,
   "title_cell": "Table of Contents",
   "title_sidebar": "Contents",
   "toc_cell": false,
   "toc_position": {
    "height": "461px",
    "left": "0px",
    "right": "927.667px",
    "top": "107px",
    "width": "139px"
   },
   "toc_section_display": "block",
   "toc_window_display": false
  }
 },
 "nbformat": 4,
 "nbformat_minor": 4
}
