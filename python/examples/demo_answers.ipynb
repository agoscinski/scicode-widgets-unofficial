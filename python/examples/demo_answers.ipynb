{
 "cells": [
  {
   "cell_type": "code",
   "execution_count": 1,
   "id": "7ed03dc0",
   "metadata": {},
   "outputs": [
    {
     "data": {
      "text/html": [
       "<style>.scwidget-button{\n",
       "    border :  3px solid;\n",
       "    border-color: #f4f2f0;\n",
       "    background-color: #f4f2f0;\n",
       "    height: auto;\n",
       "}\n",
       ".scwidget-button--out-of-date{\n",
       "    border-color: #e95420;\n",
       "}\n",
       ".scwidget-button--unchecked{\n",
       "    border-color: #20b5e9;\n",
       "}\n",
       "\n",
       ".scwidget-box{\n",
       "    border : 1px solid;\n",
       "    border-color: #f4f2f0;\n",
       "    background-color: #f4f2f0;\n",
       "}\n",
       ".scwidget-box--out-of-date{\n",
       "    border-color: #e95420;\n",
       "    background-color: #e95420;\n",
       "}\n",
       ".scwidget-box--unchecked{\n",
       "    border-color: #20b5e9;\n",
       "    background-color: #20b5e9;\n",
       "}\n",
       ".scwidget-visualizer{\n",
       "    opacity: 1.0;\n",
       "}\n",
       ".scwidget-visualizer--out-of-date{\n",
       "    opacity: 0.4;\n",
       "}\n",
       "\n",
       ".scwidget-loading-image{\n",
       "    opacity: 0.0;\n",
       "}\n",
       ".scwidget-loading-image--updating{\n",
       "    opacity: 1.0;\n",
       "}\n",
       ".scwidget-loading-image--checking{\n",
       "    opacity: 1.0;\n",
       "}\n",
       "</style>"
      ],
      "text/plain": [
       "<IPython.core.display.HTML object>"
      ]
     },
     "metadata": {},
     "output_type": "display_data"
    }
   ],
   "source": [
    "from scwidgets import (AnswerRegistry, Answer, TextareaAnswer)\n",
    "from ipywidgets import Layout"
   ]
  },
  {
   "cell_type": "markdown",
   "id": "a997abf1",
   "metadata": {},
   "source": [
    "This notebook demonstrates the usage and the functionalities of the `AnswerRegistry` widget, which can be used to provide a notebook with an interface to save and recover answers to questions and exercises, entered into text boxes or into widgets that have been made to inherit from the `Answer` interface."
   ]
  },
  {
   "cell_type": "markdown",
   "id": "ed72c17a",
   "metadata": {},
   "source": [
    "# User guide"
   ]
  },
  {
   "cell_type": "markdown",
   "id": "a8484542",
   "metadata": {},
   "source": [
    "The `AnswerRegistry` widget allows to associate a JSON file (composed from the prefix defined in the code, and a name provided by the user) with the current notebook. One or more widgets will then be registered, so that the corresponding answers can be saved, or loaded."
   ]
  },
  {
   "cell_type": "code",
   "execution_count": 2,
   "id": "8029e5c0",
   "metadata": {},
   "outputs": [
    {
     "data": {
      "application/vnd.jupyter.widget-view+json": {
       "model_id": "de036e5aeb964f2cbb8217669236609a",
       "version_major": 2,
       "version_minor": 0
      },
      "text/plain": [
       "AnswerRegistry(children=(Output(layout=Layout(height='100%', width='100%')), HBox(children=(Dropdown(descripti…"
      ]
     },
     "metadata": {},
     "output_type": "display_data"
    }
   ],
   "source": [
    "answer_registry = AnswerRegistry(prefix=\"demo-answers\")\n",
    "display(answer_registry)"
   ]
  },
  {
   "cell_type": "markdown",
   "id": "dc7263de",
   "metadata": {},
   "source": [
    "A simple example of the usage of the answer registry is given here: the `TextareaAnswer` widged is simply a `ipywidgets.Textarea` instrumented with the `Answer` interface. It can be registered so that the value of the textarea gets saved into the JSON file, or loaded for checking and/or continuing the exercise session.\n",
    "\n",
    "`register_answer_widget(key, answer)` takes one string key (that will be used as an entry in the JSON and must uniquely identify the widget) and an `Answer` widget. "
   ]
  },
  {
   "cell_type": "code",
   "execution_count": 3,
   "id": "4a39f551",
   "metadata": {},
   "outputs": [
    {
     "data": {
      "application/vnd.jupyter.widget-view+json": {
       "model_id": "6296907ab7c243688daf86e4d6da16a4",
       "version_major": 2,
       "version_minor": 0
      },
      "text/plain": [
       "TextareaAnswer(children=(Textarea(value='Write here your answer', layout=Layout(width='99%')), VBox(children=(…"
      ]
     },
     "metadata": {},
     "output_type": "display_data"
    }
   ],
   "source": [
    "text_answer = TextareaAnswer(value='Write here your answer', layout=Layout(width='99%'))\n",
    "answer_registry.register_answer_widget(\"text_answer-demo\", text_answer)\n",
    "display(text_answer)"
   ]
  },
  {
   "cell_type": "markdown",
   "id": "30002087",
   "metadata": {},
   "source": [
    "In every notebook one can register many different answers, and each can be saved individually into the JSON file."
   ]
  },
  {
   "cell_type": "code",
   "execution_count": 6,
   "id": "f143b311",
   "metadata": {},
   "outputs": [
    {
     "data": {
      "application/vnd.jupyter.widget-view+json": {
       "model_id": "ddf3efa91e5e4d518af6bdb9614b1394",
       "version_major": 2,
       "version_minor": 0
      },
      "text/plain": [
       "TextareaAnswer(children=(Textarea(value='Another answer', layout=Layout(width='99%')), VBox(children=(Button(d…"
      ]
     },
     "metadata": {},
     "output_type": "display_data"
    }
   ],
   "source": [
    "text_answer_other = TextareaAnswer(value='Another answer', layout=Layout(width='99%'))\n",
    "answer_registry.register_answer_widget(\"text_answer-demo_other\", text_answer_other)\n",
    "display(text_answer_other)"
   ]
  },
  {
   "cell_type": "markdown",
   "id": "00150db8",
   "metadata": {},
   "source": [
    "## TODO\n",
    "\n",
    "* add a on-change mechanism to signal when the answer has been changed and it must be saved\n",
    "* add a \"save all\" button for the AnswerRegistry (already created a backend function for this)"
   ]
  }
 ],
 "metadata": {
  "kernelspec": {
   "display_name": "Python 3",
   "language": "python",
   "name": "python3"
  },
  "language_info": {
   "codemirror_mode": {
    "name": "ipython",
    "version": 3
   },
   "file_extension": ".py",
   "mimetype": "text/x-python",
   "name": "python",
   "nbconvert_exporter": "python",
   "pygments_lexer": "ipython3",
   "version": "3.8.10"
  }
 },
 "nbformat": 4,
 "nbformat_minor": 5
}
