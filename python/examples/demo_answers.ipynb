{
 "cells": [
  {
   "cell_type": "code",
   "execution_count": 1,
   "id": "643d97ae",
   "metadata": {},
   "outputs": [
    {
     "data": {
      "text/html": [
       "<style>.scwidget-button{\n",
       "    border :  3px solid;\n",
       "    border-color: #f4f2f0;\n",
       "    background-color: #f4f2f0;\n",
       "    height: auto;\n",
       "}\n",
       ".scwidget-button--out-of-date{\n",
       "    border-color: #e95420;\n",
       "}\n",
       ".scwidget-button--unchecked{\n",
       "    border-color: #20b5e9;\n",
       "}\n",
       "\n",
       ".scwidget-box{\n",
       "    border : 1px solid;\n",
       "    border-color: #f4f2f0;\n",
       "    background-color: #f4f2f0;\n",
       "}\n",
       ".scwidget-box--out-of-date{\n",
       "    border-color: #e95420;\n",
       "    background-color: #e95420;\n",
       "}\n",
       ".scwidget-box--unchecked{\n",
       "    border-color: #20b5e9;\n",
       "    background-color: #20b5e9;\n",
       "}\n",
       ".scwidget-visualizer{\n",
       "    opacity: 1.0;\n",
       "}\n",
       ".scwidget-visualizer--out-of-date{\n",
       "    opacity: 0.4;\n",
       "}\n",
       "\n",
       ".scwidget-loading-image{\n",
       "    opacity: 0.0;\n",
       "}\n",
       ".scwidget-loading-image--updating{\n",
       "    opacity: 1.0;\n",
       "}\n",
       ".scwidget-loading-image--checking{\n",
       "    opacity: 1.0;\n",
       "}\n",
       "</style>"
      ],
      "text/plain": [
       "<IPython.core.display.HTML object>"
      ]
     },
     "metadata": {},
     "output_type": "display_data"
    }
   ],
   "source": [
    "from scwidgets import (AnswerRegistry, Answer, TextareaAnswer)\n",
    "from ipywidgets import Layout, Checkbox, VBox"
   ]
  },
  {
   "cell_type": "markdown",
   "id": "401ced28",
   "metadata": {},
   "source": [
    "This notebook demonstrates the usage and the functionalities of the `AnswerRegistry` widget, which can be used to provide a notebook with an interface to save and recover answers to questions and exercises, entered into text boxes or into widgets that have been made to inherit from the `Answer` interface."
   ]
  },
  {
   "cell_type": "markdown",
   "id": "82d35e0b",
   "metadata": {},
   "source": [
    "# User guide"
   ]
  },
  {
   "cell_type": "markdown",
   "id": "17e61a84",
   "metadata": {},
   "source": [
    "The `AnswerRegistry` widget allows to associate a JSON file (composed from the prefix defined in the code, and a name provided by the user) with the current notebook. One or more widgets will then be registered, so that the corresponding answers can be saved, or loaded."
   ]
  },
  {
   "cell_type": "code",
   "execution_count": 2,
   "id": "3d045814",
   "metadata": {},
   "outputs": [
    {
     "data": {
      "application/vnd.jupyter.widget-view+json": {
       "model_id": "39078994644247bfb11986eb107f294e",
       "version_major": 2,
       "version_minor": 0
      },
      "text/plain": [
       "AnswerRegistry(children=(Output(layout=Layout(height='100%', width='100%')), HBox(children=(Dropdown(descripti…"
      ]
     },
     "metadata": {},
     "output_type": "display_data"
    }
   ],
   "source": [
    "answer_registry = AnswerRegistry(prefix=\"demo-answers\")\n",
    "display(answer_registry)"
   ]
  },
  {
   "cell_type": "markdown",
   "id": "6860b724",
   "metadata": {},
   "source": [
    "A simple example of the usage of the answer registry is given here: the `TextareaAnswer` widged is simply a `ipywidgets.Textarea` instrumented with the `Answer` interface. It can be registered so that the value of the textarea gets saved into the JSON file, or loaded for checking and/or continuing the exercise session.\n",
    "\n",
    "`register_answer_widget(key, answer)` takes one string key (that will be used as an entry in the JSON and must uniquely identify the widget) and an `Answer` widget. "
   ]
  },
  {
   "cell_type": "code",
   "execution_count": 3,
   "id": "fe00db06",
   "metadata": {},
   "outputs": [
    {
     "data": {
      "application/vnd.jupyter.widget-view+json": {
       "model_id": "ceb01f7ceb3942578de15459871bc074",
       "version_major": 2,
       "version_minor": 0
      },
      "text/plain": [
       "TextareaAnswer(children=(Textarea(value='Write here your answer', layout=Layout(width='99%')), VBox(children=(…"
      ]
     },
     "metadata": {},
     "output_type": "display_data"
    }
   ],
   "source": [
    "text_answer = TextareaAnswer(value='Write here your answer', layout=Layout(width='99%'))\n",
    "answer_registry.register_answer_widget(\"text_answer-demo\", text_answer)\n",
    "display(text_answer)"
   ]
  },
  {
   "cell_type": "markdown",
   "id": "412f667e",
   "metadata": {},
   "source": [
    "In every notebook one can register many different answers, and each can be saved individually into the JSON file."
   ]
  },
  {
   "cell_type": "code",
   "execution_count": 4,
   "id": "35884308",
   "metadata": {},
   "outputs": [
    {
     "data": {
      "application/vnd.jupyter.widget-view+json": {
       "model_id": "4da9a64349c44cafa7b9b764da339f68",
       "version_major": 2,
       "version_minor": 0
      },
      "text/plain": [
       "TextareaAnswer(children=(Textarea(value='Another answer', layout=Layout(width='99%')), VBox(children=(Button(d…"
      ]
     },
     "metadata": {},
     "output_type": "display_data"
    }
   ],
   "source": [
    "text_answer_other = TextareaAnswer(value='Another answer', layout=Layout(width='99%'))\n",
    "answer_registry.register_answer_widget(\"text_answer-demo_other\", text_answer_other)\n",
    "display(text_answer_other)"
   ]
  },
  {
   "cell_type": "markdown",
   "id": "3948b02c",
   "metadata": {},
   "source": [
    "# Developer guide"
   ]
  },
  {
   "cell_type": "markdown",
   "id": "27d8aa06",
   "metadata": {},
   "source": [
    "Any widget can be instrumented to become an answer. It is sufficient to inherit from the `Answer` class, and to implement an `answer_value` property (essentially providing a standardized name for whatever component of the original widget we want to store) and implementing an `on_save` function to handle the display of the save button."
   ]
  },
  {
   "cell_type": "code",
   "execution_count": 5,
   "id": "be864c38",
   "metadata": {},
   "outputs": [],
   "source": [
    "class CheckboxAnswer(VBox, Answer):\n",
    "    \"\"\" A widget that contains a Checkbox whose status can be saved\"\"\"\n",
    "    def __init__(self, *args, **kwargs):\n",
    "        self._answer_checkbox = Checkbox(*args, **kwargs)\n",
    "        super(CheckboxAnswer, self).__init__(\n",
    "                [self._answer_checkbox], layout=Layout(align_items=\"flex-start\", width='100%'))\n",
    "\n",
    "    \n",
    "    @property\n",
    "    def answer_value(self):\n",
    "        return self._answer_checkbox.value\n",
    "\n",
    "    @answer_value.setter\n",
    "    def answer_value(self, new_answer_value):\n",
    "        self._answer_checkbox.value = new_answer_value\n",
    "\n",
    "    def on_save(self, callback):\n",
    "        if self._save_button is None and self._on_save_callback is None:\n",
    "            save_widget = self._init_save_widget(callback)\n",
    "            self.children += (save_widget,)\n",
    "        else:\n",
    "            self._answer_checkbox(callback)"
   ]
  },
  {
   "cell_type": "markdown",
   "id": "a7dfab00",
   "metadata": {},
   "source": [
    "Does the barber who who shaves all those, and those only, who do not shave themselves shave himself?"
   ]
  },
  {
   "cell_type": "code",
   "execution_count": 6,
   "id": "d8a78fc8",
   "metadata": {},
   "outputs": [
    {
     "data": {
      "application/vnd.jupyter.widget-view+json": {
       "model_id": "20712f76804648d7ab349291ce151ac6",
       "version_major": 2,
       "version_minor": 0
      },
      "text/plain": [
       "CheckboxAnswer(children=(Checkbox(value=False, description='The barber shaves himself'), VBox(children=(Button…"
      ]
     },
     "metadata": {},
     "output_type": "display_data"
    }
   ],
   "source": [
    "check_answer = CheckboxAnswer(description=\"The barber shaves himself\", value=False)\n",
    "answer_registry.register_answer_widget(\"check_answer-barber\", check_answer)\n",
    "display(check_answer)"
   ]
  },
  {
   "cell_type": "markdown",
   "id": "28d7aed4",
   "metadata": {},
   "source": [
    "## TODO\n",
    "\n",
    "* add a on-change mechanism to signal when the answer has been changed and it must be saved"
   ]
  },
  {
   "cell_type": "code",
   "execution_count": null,
   "id": "d3581a74",
   "metadata": {},
   "outputs": [],
   "source": []
  }
 ],
 "metadata": {
  "kernelspec": {
   "display_name": "Python 3",
   "language": "python",
   "name": "python3"
  },
  "language_info": {
   "codemirror_mode": {
    "name": "ipython",
    "version": 3
   },
   "file_extension": ".py",
   "mimetype": "text/x-python",
   "name": "python",
   "nbconvert_exporter": "python",
   "pygments_lexer": "ipython3",
   "version": "3.8.10"
  }
 },
 "nbformat": 4,
 "nbformat_minor": 5
}
