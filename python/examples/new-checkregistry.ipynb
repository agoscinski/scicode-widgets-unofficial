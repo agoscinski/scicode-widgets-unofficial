{
 "cells": [
  {
   "cell_type": "code",
   "execution_count": 1,
   "id": "b50f6198",
   "metadata": {},
   "outputs": [
    {
     "data": {
      "text/html": [
       "<style>.scwidget-button{\n",
       "    border :  3px solid;\n",
       "    border-color: #f4f2f0;\n",
       "    background-color: #f4f2f0;\n",
       "    height: auto;\n",
       "}\n",
       ".scwidget-button--out-of-date{\n",
       "    border-color: #e95420;\n",
       "}\n",
       ".scwidget-button--unchecked{\n",
       "    border-color: #20b5e9;\n",
       "}\n",
       "\n",
       ".scwidget-box{\n",
       "    border : 1px solid;\n",
       "    border-color: #f4f2f0;\n",
       "    background-color: #f4f2f0;\n",
       "}\n",
       ".scwidget-box--out-of-date{\n",
       "    border-color: #e95420;\n",
       "    background-color: #e95420;\n",
       "}\n",
       ".scwidget-box--unchecked{\n",
       "    border-color: #20b5e9;\n",
       "    background-color: #20b5e9;\n",
       "}\n",
       ".scwidget-visualizer{\n",
       "    opacity: 1.0;\n",
       "}\n",
       ".scwidget-visualizer--out-of-date{\n",
       "    opacity: 0.4;\n",
       "}\n",
       "\n",
       ".scwidget-loading-image{\n",
       "    opacity: 0.0;\n",
       "}\n",
       ".scwidget-loading-image--updating{\n",
       "    opacity: 1.0;\n",
       "}\n",
       ".scwidget-loading-image--checking{\n",
       "    opacity: 1.0;\n",
       "}\n",
       "</style>"
      ],
      "text/plain": [
       "<IPython.core.display.HTML object>"
      ]
     },
     "metadata": {},
     "output_type": "display_data"
    }
   ],
   "source": [
    "import numpy as np\n",
    "\n",
    "%matplotlib widget\n",
    "import matplotlib.pyplot as plt\n",
    "\n",
    "from scwidgets import (CodeDemo, ParametersBox, CodeChecker, PyplotOutput, ClearedOutput, AnimationOutput)\n",
    "from widget_code_input import WidgetCodeInput\n",
    "\n",
    "from scwidgets import CodeCheckerRegistry"
   ]
  },
  {
   "cell_type": "code",
   "execution_count": 2,
   "id": "506e5cd9",
   "metadata": {},
   "outputs": [],
   "source": [
    "check_registry = CodeCheckerRegistry()"
   ]
  },
  {
   "cell_type": "code",
   "execution_count": 3,
   "id": "08014d4a",
   "metadata": {},
   "outputs": [
    {
     "data": {
      "application/vnd.jupyter.widget-view+json": {
       "model_id": "4895baaa3fa04e1aa69fb77a017b7822",
       "version_major": 2,
       "version_minor": 0
      },
      "text/plain": [
       "CodeDemo(children=(HBox(children=(CodeDemoBox(_dom_classes=('scwidget-box',)), VBox(children=(WidgetCodeInput(…"
      ]
     },
     "metadata": {},
     "output_type": "display_data"
    }
   ],
   "source": [
    "cw = WidgetCodeInput(\n",
    "        function_name=\"plot_function\", \n",
    "        function_parameters=\"x, a, w, f_abs\",\n",
    "        code_theme = \"default\",\n",
    "        docstring=\"\"\"\n",
    "Computes the sine function with a given frequency and amplitude, optionally taking the absolute value\n",
    "\n",
    ":param x: the input variable\n",
    ":param a: the amplitude\n",
    ":param w: the frequency\n",
    ":param f_abs: bool: take the absolute value?\n",
    "\n",
    ":return: abs(a*sin(w x)) if f_abs else a*sin(w x)\n",
    "\"\"\",\n",
    "            function_body=\"\"\"\n",
    "# Write your solution, then click on the button below to update the plotter and check against the reference values\n",
    "import numpy as np\n",
    "return 0.0*np.array(x)\n",
    "\"\"\"\n",
    "        )\n",
    "\n",
    "# Correct answer, only for testing purposes:\n",
    "cw.function_body = \"\"\"\n",
    "import numpy as np\n",
    "if not f_abs:\n",
    "\treturn a*np.sin(w*x)\n",
    "else:\n",
    "\treturn np.abs(a*np.sin(w*x))\n",
    "\"\"\"\n",
    "\n",
    "#We prepare the visualization and their update callback:\n",
    "fig2 = plt.figure()\n",
    "fig2.add_subplot(111)\n",
    "sine_pyplot_output_exercise =  PyplotOutput(fig2)\n",
    "\n",
    "sine_parameterbox = ParametersBox(a = (2., 1,100, 2, r'$A$'), w = (2.0, 0, 10, 0.1, r'$\\omega$'),\n",
    "                                       abval=(False, r'Absolute value'))\n",
    "axes_exercise = sine_pyplot_output_exercise.figure.get_axes()\n",
    "\n",
    "\n",
    "def code_update_visualizer(a,w,abval,code_input,visualizers):\n",
    "    pyplot_output = visualizers[0]\n",
    "    axes = pyplot_output.figure.get_axes()\n",
    "    ax = axes[0]\n",
    "    sine_func = code_input.get_function_object()\n",
    "    xgrid = np.linspace(0,5,100)\n",
    "    ax.plot(xgrid,sine_func(xgrid,a,w,abval))\n",
    "    ax.set_ylabel(r\"$\\sin x$\")\n",
    "    ax.set_xlabel(\"$x$\")\n",
    "    \n",
    "#Initialize CodeDemo and initialize it's checks in the check_registry:\n",
    "sine_code_demo = CodeDemo( \n",
    "            code_input = cw,\n",
    "            input_parameters_box = sine_parameterbox,\n",
    "            visualizers=[sine_pyplot_output_exercise],\n",
    "            update_visualizers=code_update_visualizer,\n",
    "            ) \n",
    "\n",
    "#This line is here only to clean checks for prototyping, not a part of the module:\n",
    "check_registry.init_checks(\"sine_code_demo\", sine_code_demo) # resets existing checks\n",
    "input_parameters_exercise1 = [{\"x\" : 1, \"a\" : 1, \"w\" : 1, \"f_abs\" : True},\n",
    "                              {\"x\" : np.pi/2, \"a\" : 2, \"w\" : 1, \"f_abs\" : False},\n",
    "                              {\"x\" : 0, \"a\" : 3, \"w\" : 0.5, \"f_abs\" : True}]\n",
    "                              \n",
    "check_registry.add_check(\"sine_code_demo\",\n",
    "                         input_parameters_exercise1, equal=np.allclose) # np.allclose is automatically chosen\n",
    "\n",
    "sine_code_demo.run_and_display_demo()"
   ]
  },
  {
   "cell_type": "code",
   "execution_count": 4,
   "id": "1634b008",
   "metadata": {},
   "outputs": [
    {
     "data": {
      "application/vnd.jupyter.widget-view+json": {
       "model_id": "25e9b09071254e6d9bd99938f1d0173b",
       "version_major": 2,
       "version_minor": 0
      },
      "text/plain": [
       "Output()"
      ]
     },
     "metadata": {},
     "output_type": "display_data"
    }
   ],
   "source": [
    "from ipywidgets import Output\n",
    "out = Output()\n",
    "display(out)"
   ]
  },
  {
   "cell_type": "code",
   "execution_count": 5,
   "id": "f7203451",
   "metadata": {},
   "outputs": [],
   "source": [
    "sine_code_demo._error_output = out"
   ]
  },
  {
   "cell_type": "code",
   "execution_count": 6,
   "id": "586ec33f",
   "metadata": {},
   "outputs": [],
   "source": [
    "check_registry.produce_reference_outputs(\"sine_code_demo\")"
   ]
  },
  {
   "cell_type": "code",
   "execution_count": 7,
   "id": "68a1868a",
   "metadata": {},
   "outputs": [
    {
     "data": {
      "text/plain": [
       "True"
      ]
     },
     "execution_count": 7,
     "metadata": {},
     "output_type": "execute_result"
    }
   ],
   "source": [
    "check_registry.run_checks(\"sine_code_demo\")"
   ]
  },
  {
   "cell_type": "code",
   "execution_count": null,
   "id": "306629b2",
   "metadata": {},
   "outputs": [],
   "source": []
  }
 ],
 "metadata": {
  "kernelspec": {
   "display_name": "Python 3 (ipykernel)",
   "language": "python",
   "name": "python3"
  },
  "language_info": {
   "codemirror_mode": {
    "name": "ipython",
    "version": 3
   },
   "file_extension": ".py",
   "mimetype": "text/x-python",
   "name": "python",
   "nbconvert_exporter": "python",
   "pygments_lexer": "ipython3",
   "version": "3.7.13"
  }
 },
 "nbformat": 4,
 "nbformat_minor": 5
}
