{
 "cells": [
  {
   "cell_type": "code",
   "execution_count": 4,
   "id": "3a1cf7a0-64bb-4f72-ba14-7fffe0f1e0ea",
   "metadata": {},
   "outputs": [],
   "source": [
    "import ipywidgets\n",
    "import functools\n",
    "import enum\n",
    "import os\n",
    "import IPython\n",
    "import traitlets\n",
    "from ipywidgets import Box, FloatSlider"
   ]
  },
  {
   "cell_type": "code",
   "execution_count": 5,
   "id": "83087937-a7a6-4459-8cd0-49fb89b22344",
   "metadata": {},
   "outputs": [
    {
     "data": {
      "text/html": [
       "<style>\n",
       ".scwidget-answer-widget{\n",
       "  border-left : 0px solid;\n",
       "}\n",
       "\n",
       ".scwidget-answer-widget--change__left{\n",
       "  border-left : 10px solid;\n",
       "  border-left-color: #e95420;\n",
       "}\n",
       "</style>"
      ],
      "text/plain": [
       "<IPython.core.display.HTML object>"
      ]
     },
     "metadata": {},
     "output_type": "display_data"
    }
   ],
   "source": [
    "style_txt=\"\"\"\n",
    ".scwidget-answer-widget{\n",
    "  border-left : 0px solid;\n",
    "}\n",
    "\n",
    ".scwidget-answer-widget--change__left{\n",
    "  border-left : 10px solid;\n",
    "  border-left-color: #e95420;\n",
    "}\n",
    "\"\"\"\n",
    "style_html = IPython.display.HTML(\"<style>\"+style_txt+\"</style>\")\n",
    "IPython.display.display(style_html)"
   ]
  },
  {
   "cell_type": "markdown",
   "id": "4f6d6444-b7d5-44cd-8902-d2c8e0035b38",
   "metadata": {},
   "source": [
    "### 1st Approach with monkey patching widget as we discussed"
   ]
  },
  {
   "cell_type": "code",
   "execution_count": 6,
   "id": "ee890da4-49fc-416c-99c7-d62fe646cd73",
   "metadata": {},
   "outputs": [
    {
     "data": {
      "application/vnd.jupyter.widget-view+json": {
       "model_id": "b57f75912d6249ba8f1210123e25ae15",
       "version_major": 2,
       "version_minor": 0
      },
      "text/plain": [
       "FloatSlider(value=0.0, _dom_classes=('scwidget-answer-widget',))"
      ]
     },
     "metadata": {},
     "output_type": "display_data"
    }
   ],
   "source": [
    "class VisualCue:      \n",
    "    def __init__(self, css_style):\n",
    "        self._css_style = css_style\n",
    "    \n",
    "    def patch_cue_to_widget(self, widget_to_observe, trait_to_observe, wigdet_to_patch=None):\n",
    "        \"\"\"\n",
    "            We want to put the style change around a different widget than the widget with the trait\n",
    "            For example the visualizers, visualizer changes its style when answer changes\n",
    "        \"\"\"\n",
    "        if wigdet_to_patch is None:\n",
    "            wigdet_to_patch = widget_to_observe\n",
    "        wigdet_to_patch._css_style = self._css_style\n",
    "        wigdet_to_patch.add_class(self._css_style['base'])\n",
    "        wigdet_to_patch._on_trait_change = functools.partial(VisualCue._on_trait_change, wigdet_to_patch)\n",
    "        wigdet_to_patch.remove_cue = functools.partial(VisualCue.remove_cue, wigdet_to_patch)\n",
    "        widget_to_observe.observe(widget_to_observe._on_trait_change, trait_to_observe)\n",
    "        # needs to return widget because widget is copy not reference\n",
    "        return wigdet_to_patch\n",
    "\n",
    "    def _on_trait_change(self, change=None):\n",
    "        self.add_class(self._css_style['_on_trait_change'])\n",
    "        \n",
    "    def remove_cue(self):\n",
    "        self.remove_class(self._css_style['_on_trait_change'])\n",
    "        \n",
    "style = {'base': 'scwidget-answer-widget', '_on_trait_change': 'scwidget-answer-widget--change__left'}\n",
    "float_slider = FloatSlider()\n",
    "SAVE_CUE = VisualCue(style)\n",
    "float_slider = SAVE_CUE.patch_cue_to_widget(FloatSlider(), \"value\")\n",
    "display(float_slider)\n",
    "\n",
    "# change value\n",
    "# reload by button click\n"
   ]
  },
  {
   "cell_type": "code",
   "execution_count": 7,
   "id": "8d787c6c-cf48-4829-9a8f-4f81c56ec98a",
   "metadata": {},
   "outputs": [],
   "source": [
    "float_slider.value = 55."
   ]
  },
  {
   "cell_type": "code",
   "execution_count": 8,
   "id": "db482daf-2770-4a33-94a5-c90c82d18712",
   "metadata": {},
   "outputs": [],
   "source": [
    "float_slider.remove_cue()"
   ]
  },
  {
   "cell_type": "markdown",
   "id": "8cebb4b2-f117-4c8b-9d99-e1604bbbe156",
   "metadata": {},
   "source": [
    "### 2nd Approach with Box, it is same complexity, but allows nested boxes  if we want"
   ]
  },
  {
   "cell_type": "code",
   "execution_count": 17,
   "id": "3b3c0a18-dfdb-4104-aaf8-e06e1aaf68a2",
   "metadata": {},
   "outputs": [
    {
     "data": {
      "application/vnd.jupyter.widget-view+json": {
       "model_id": "948de40e7e564ef7be1fbec3eb78f4ac",
       "version_major": 2,
       "version_minor": 0
      },
      "text/plain": [
       "VisualCue(children=(FloatSlider(value=0.0),), _dom_classes=('scwidget-answer-widget',))"
      ]
     },
     "metadata": {},
     "output_type": "display_data"
    }
   ],
   "source": [
    "class VisualCue(Box):\n",
    "    def __init__(self, widget_to_observe, trait_to_observe, widget_to_frame=None, css_style=None, *args, **kwargs):\n",
    "        self._css_style = css_style\n",
    "        self._widget_to_frame = widget_to_observe if (widget_to_frame is None) else widget_to_frame\n",
    "        self._widget_to_observe = widget_to_observe\n",
    "        self._css_style = css_style\n",
    "        super().__init__([self._widget_to_frame], *args, **kwargs)\n",
    "        self._widget_to_observe.observe(self._on_trait_change, trait_to_observe)\n",
    "        self.add_class(f\"{self._css_style['base']}\")\n",
    "        \n",
    "    def _on_trait_change(self, change=None):\n",
    "        self.add_class(self._css_style['_on_trait_change'])\n",
    "        \n",
    "    def remove_cue(self):\n",
    "        self.remove_class(self._css_style['_on_trait_change'])\n",
    "\n",
    "float_slider2 = FloatSlider()\n",
    "style = {'base': 'scwidget-answer-widget', '_on_trait_change': 'scwidget-answer-widget--change__left'}\n",
    "SAVE_CUE = functools.partial(VisualCue, css_style=({'base': 'scwidget-answer-widget',\n",
    "                      '_on_trait_change': 'scwidget-answer-widget--change__left'}))\n",
    "\n",
    "float_slider_cued = SAVE_CUE(float_slider2, \"value\")\n",
    "display(float_slider_cued)\n"
   ]
  },
  {
   "cell_type": "code",
   "execution_count": 18,
   "id": "4b0c93b0-9610-4663-9faf-d2ae05026021",
   "metadata": {},
   "outputs": [],
   "source": [
    "float_slider2.value = 55."
   ]
  },
  {
   "cell_type": "code",
   "execution_count": 20,
   "id": "53ab7358-3be7-4c8d-b15a-0bcc334af4a5",
   "metadata": {},
   "outputs": [],
   "source": [
    "float_slider_cued.remove_cue()"
   ]
  },
  {
   "cell_type": "code",
   "execution_count": null,
   "id": "efe900ca-6639-4f97-a162-d5b7864bba41",
   "metadata": {},
   "outputs": [],
   "source": []
  }
 ],
 "metadata": {
  "kernelspec": {
   "display_name": "Python",
   "language": "python",
   "name": "python3"
  },
  "language_info": {
   "codemirror_mode": {
    "name": "ipython",
    "version": 3
   },
   "file_extension": ".py",
   "mimetype": "text/x-python",
   "name": "python",
   "nbconvert_exporter": "python",
   "pygments_lexer": "ipython3",
   "version": "3.8.10"
  }
 },
 "nbformat": 4,
 "nbformat_minor": 5
}
