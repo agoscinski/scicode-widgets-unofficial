{
 "cells": [
  {
   "cell_type": "code",
   "execution_count": 1,
   "metadata": {
    "ExecuteTime": {
     "end_time": "2022-11-27T20:52:17.096292Z",
     "start_time": "2022-11-27T20:52:17.060708Z"
    }
   },
   "outputs": [],
   "source": [
    "%load_ext autoreload\n",
    "%autoreload 2"
   ]
  },
  {
   "cell_type": "code",
   "execution_count": 2,
   "metadata": {
    "ExecuteTime": {
     "end_time": "2022-11-27T20:52:18.621525Z",
     "start_time": "2022-11-27T20:52:17.328553Z"
    }
   },
   "outputs": [
    {
     "data": {
      "text/html": [
       "<style>.scwidget-button{\n",
       "    border :  3px solid;\n",
       "    border-color: #f4f2f0;\n",
       "    background-color: #f4f2f0;\n",
       "    height: auto;\n",
       "}\n",
       ".scwidget-button--out-of-date{\n",
       "    border-color: #e95420;\n",
       "}\n",
       ".scwidget-button--unchecked{\n",
       "    border-color: #20b5e9;\n",
       "}\n",
       "\n",
       ".scwidget-box{\n",
       "    border : 1px solid;\n",
       "    border-color: #f4f2f0;\n",
       "    background-color: #f4f2f0;\n",
       "}\n",
       ".scwidget-box--out-of-date{\n",
       "    border-color: #e95420;\n",
       "    background-color: #e95420;\n",
       "}\n",
       ".scwidget-box--unchecked{\n",
       "    border-color: #20b5e9;\n",
       "    background-color: #20b5e9;\n",
       "}\n",
       ".scwidget-visualizer{\n",
       "    opacity: 1.0;\n",
       "}\n",
       ".scwidget-visualizer--out-of-date{\n",
       "    opacity: 0.4;\n",
       "}\n",
       "\n",
       ".scwidget-loading-image{\n",
       "    opacity: 0.0;\n",
       "}\n",
       ".scwidget-loading-image--updating{\n",
       "    opacity: 1.0;\n",
       "}\n",
       ".scwidget-loading-image--checking{\n",
       "    opacity: 1.0;\n",
       "}\n",
       "</style>"
      ],
      "text/plain": [
       "<IPython.core.display.HTML object>"
      ]
     },
     "metadata": {},
     "output_type": "display_data"
    }
   ],
   "source": [
    "%matplotlib widget\n",
    "import numpy as np\n",
    "import scipy as sp\n",
    "import matplotlib as mpl\n",
    "import matplotlib.pyplot as plt\n",
    "import chemiscope\n",
    "from scwidgets import (AnswerRegistry, TextareaAnswer, CodeDemo,\n",
    "                       ParametersBox, PyplotOutput, ClearedOutput,\n",
    "                       AnimationOutput,CheckRegistry)\n",
    "#no more  CodeChecker\n",
    "from widget_code_input import WidgetCodeInput\n",
    "from ipywidgets import Layout, Output, Textarea\n",
    "from ase import Atoms"
   ]
  },
  {
   "cell_type": "code",
   "execution_count": 3,
   "metadata": {
    "ExecuteTime": {
     "end_time": "2022-11-27T20:52:18.633663Z",
     "start_time": "2022-11-27T20:52:18.622776Z"
    },
    "code_folding": []
   },
   "outputs": [],
   "source": [
    "#### AVOID folding of output cell "
   ]
  },
  {
   "cell_type": "code",
   "execution_count": 4,
   "metadata": {
    "ExecuteTime": {
     "end_time": "2022-11-27T20:52:18.647772Z",
     "start_time": "2022-11-27T20:52:18.634651Z"
    }
   },
   "outputs": [
    {
     "data": {
      "text/html": [
       "<style>\n",
       ".output_wrapper, .output {\n",
       "    height:auto !important;\n",
       "    max-height:4000px;  /* your desired max-height here */\n",
       "}\n",
       ".output_scroll {\n",
       "    box-shadow:none !important;\n",
       "    webkit-box-shadow:none !important;\n",
       "}\n",
       "</style>\n"
      ],
      "text/plain": [
       "<IPython.core.display.HTML object>"
      ]
     },
     "metadata": {},
     "output_type": "display_data"
    }
   ],
   "source": [
    "%%html\n",
    "<style>\n",
    ".output_wrapper, .output {\n",
    "    height:auto !important;\n",
    "    max-height:4000px;  /* your desired max-height here */\n",
    "}\n",
    ".output_scroll {\n",
    "    box-shadow:none !important;\n",
    "    webkit-box-shadow:none !important;\n",
    "}\n",
    "</style>"
   ]
  },
  {
   "cell_type": "markdown",
   "metadata": {},
   "source": [
    "# Introduction to atomic-scale modeling"
   ]
  },
  {
   "cell_type": "markdown",
   "metadata": {},
   "source": [
    "This course provides a hands-on introduction to the modeling of materials at the atomic scale. \n",
    "The purpose is both to provide a first example of the application of some of the techniques used to predict and characterize the behavior of materials in terms of the fundamental physical laws that govern the interactions between their atoms, as well as to demonstrate in a practical, numerical way some of the foundational concepts of materials science, such as the formation of crystal structures, \n",
    "\n",
    "The course is organized as a series of Jupyter notebooks, each covering one module:\n",
    "\n",
    "1. [Atomic structures on a computer](./01-Atomic_scale_structures.ipynb)\n",
    "2. [Crystallography and diffraction](./02-Crystallography.ipynb)\n",
    "3. [Vibrations in solids, phonons](./03-Lattice_dynamics.ipynb)\n",
    "4. [Interatomic potentials](./04-Potentials.ipynb)\n",
    "5. [Defects in solids](./05-Defects.ipynb)\n",
    "6. [Molecular dynamics](./06-Molecular_dynamics.ipynb)\n",
    "7. [Machine learning](./07-Machine_learning.ipynb)"
   ]
  },
  {
   "cell_type": "markdown",
   "metadata": {},
   "source": [
    "# Course how-to"
   ]
  },
  {
   "cell_type": "markdown",
   "metadata": {},
   "source": [
    "The course contains a combination of text-book-style explanations, simple mathematical derivations, and interactive widgets in which you need to manipulate functions or atomic structures, and/or enter short snippets of code. The course material is conceived so that minimal amounts of prior knowledge about Python or Jupyter notebooks is needed, but you will have to do _some_ coding. Looking up examples and documentation online is fine, and even encouraged."
   ]
  },
  {
   "cell_type": "markdown",
   "metadata": {},
   "source": [
    "### Checking your work\n",
    "\n",
    "All the courses modules have an accompanying `module_XX_checker.json` file containing tests for coding exercises. These tests are meant to help you control the correctness of your code and may be used for grading. \n",
    "\n",
    "Each coding exercises with checks have a \"Check code\" button, which you can click to control your answer before saving and/or submitting the notebook to grading.\n",
    "\n",
    "__Do not move, erase of modify the__ `module_XX_checker.json` __file.__  If you have any problems, contact a teacher or teaching assistant."
   ]
  },
  {
   "cell_type": "code",
   "execution_count": 5,
   "metadata": {
    "ExecuteTime": {
     "end_time": "2022-11-27T20:52:20.667797Z",
     "start_time": "2022-11-27T20:52:20.637490Z"
    }
   },
   "outputs": [],
   "source": [
    "check_registry = CheckRegistry() "
   ]
  },
  {
   "cell_type": "markdown",
   "metadata": {},
   "source": [
    "### Saving your work\n",
    "At the top of each notebook you will find a text box to enter your name. This will also be used to create a file in which you can save (and load from) the data you have entered into exercises and text widgets. We suggest to use `SurnameName`, which will lead to a file named `module_XX-SurnameName.json`. If you are looking at these notebooks as part of a formal course, you will be able to send these for grading. \n",
    "\n",
    "_NB: the state of the widgets is not saved automatically, so remember to click \"Save\" once you are done with a notebook_"
   ]
  },
  {
   "cell_type": "code",
   "execution_count": 6,
   "metadata": {
    "ExecuteTime": {
     "end_time": "2022-11-27T20:52:21.381471Z",
     "start_time": "2022-11-27T20:52:21.303723Z"
    }
   },
   "outputs": [
    {
     "data": {
      "application/vnd.jupyter.widget-view+json": {
       "model_id": "92f18d54371b4df7a48a0367f5040f19",
       "version_major": 2,
       "version_minor": 0
      },
      "text/plain": [
       "AnswerRegistry(children=(Output(layout=Layout(height='100%', width='100%')), HBox(children=(Dropdown(descripti…"
      ]
     },
     "metadata": {},
     "output_type": "display_data"
    }
   ],
   "source": [
    "answer_registry = AnswerRegistry(prefix=\"module_0\")\n",
    "display(answer_registry)"
   ]
  },
  {
   "cell_type": "code",
   "execution_count": 7,
   "metadata": {
    "ExecuteTime": {
     "end_time": "2022-11-27T20:52:21.806774Z",
     "start_time": "2022-11-27T20:52:21.746481Z"
    }
   },
   "outputs": [
    {
     "data": {
      "application/vnd.jupyter.widget-view+json": {
       "model_id": "47546d372b9b48cfb54f61d76659be60",
       "version_major": 2,
       "version_minor": 0
      },
      "text/plain": [
       "TextareaAnswer(children=(Textarea(value='general comments on this module', layout=Layout(width='100%')), VBox(…"
      ]
     },
     "metadata": {},
     "output_type": "display_data"
    }
   ],
   "source": [
    "module_summary = TextareaAnswer(\"general comments on this module\", layout=Layout(width=\"100%\"))\n",
    "answer_registry.register_answer_widget(\"module-summary\", module_summary)\n",
    "display(module_summary)"
   ]
  },
  {
   "cell_type": "markdown",
   "metadata": {},
   "source": [
    "<span style=\"color:blue\">\n",
    "<br><b>01</b> Throughout the notebook you will find highlighted paragraphs with a bold number.  These are instructions that you need to follow to answer some exercises, or comment on what you observe in interactive widgets. \n",
    "</span>\n",
    "\n",
    "This might imply typing some open answer commenting the results you are seeing, or reporting the result of some simple derivation. Please keep this as tidy and clean: be concise and to the point, this is to help you collect your thoughts as much as to provide evaluation. "
   ]
  },
  {
   "cell_type": "markdown",
   "metadata": {},
   "source": [
    "# Appmode and dependencies"
   ]
  },
  {
   "cell_type": "markdown",
   "metadata": {},
   "source": [
    "The notebooks use the *Appmode* Jupyter plugin, which you can activate by clicking on the corresponding button\n",
    "<img src=\"figures/appmode_button.png\" width=\"100\"/>\n",
    "and can be run with minimal knowledge of the Python language. Students with stronger programming background, who want to look \"under the hood\" can look directly at the source code before switching to Appmode to run them - or run the cells directly without activating the Appmode."
   ]
  },
  {
   "cell_type": "markdown",
   "metadata": {},
   "source": [
    "If you are using these notebooks as part of a class, hopefully you will be running them already in a fully-configured environment. If instead you are using them on your own system, you may need to install several prerequisite. From the main folder, run `pip install -r requirements.txt`, or a similar command with your favourite Python package manager"
   ]
  },
  {
   "cell_type": "markdown",
   "metadata": {},
   "source": [
    "# Interactive widgets"
   ]
  },
  {
   "cell_type": "markdown",
   "metadata": {},
   "source": [
    "The notebooks often contain interactive widgets that can be manipulated by changing some slider values, to visualize the concepts being discussed. Usually these don't require any coding, just to follow some instructions and/or to experiment with the values do develop a more intuitive understanding of the significance of an equation, or to test its limits."
   ]
  },
  {
   "cell_type": "code",
   "execution_count": 8,
   "metadata": {
    "ExecuteTime": {
     "end_time": "2022-11-27T20:52:23.783629Z",
     "start_time": "2022-11-27T20:52:23.750356Z"
    }
   },
   "outputs": [],
   "source": [
    "def plot_sine(ax, w, a, abval):\n",
    "    xgrid = np.linspace(0,5,100)\n",
    "    ax = ax[0]\n",
    "    if abval:\n",
    "        ax.plot(xgrid, np.abs(a*np.sin(xgrid*w)))\n",
    "        ax.set_ylabel(r\"$|\\sin x|$\")\n",
    "    else:\n",
    "        ax.plot(xgrid, a*np.sin(xgrid*w))\n",
    "        ax.set_ylabel(r\"$\\sin x$\")\n",
    "    ax.set_xlabel(\"$x$\")\n",
    "    \n",
    "\n",
    "    "
   ]
  },
  {
   "cell_type": "code",
   "execution_count": 12,
   "metadata": {
    "ExecuteTime": {
     "end_time": "2022-11-27T20:52:57.899704Z",
     "start_time": "2022-11-27T20:52:57.731891Z"
    }
   },
   "outputs": [
    {
     "data": {
      "application/vnd.jupyter.widget-view+json": {
       "model_id": "cabe0be555104065a309907c593fd5d0",
       "version_major": 2,
       "version_minor": 0
      },
      "text/plain": [
       "CodeDemo(children=(HBox(children=(ParametersBox(children=(HBox(children=(CodeDemoBox(_dom_classes=('scwidget-b…"
      ]
     },
     "metadata": {},
     "output_type": "display_data"
    }
   ],
   "source": [
    "sine_parameterbox = ParametersBox(update_mode = \"continuous\",w = (2.0, 0, 10, 0.1, r'$\\omega$'), a = (2., 1,100, 2, r'$A$'), \n",
    "                                      abval=(False, r'Absolute value'))\n",
    "example_fig = plt.figure()\n",
    "example_fig.add_subplot(111)\n",
    "example_pyplot_output =  PyplotOutput(example_fig)\n",
    "axes_example = example_pyplot_output.figure.get_axes()\n",
    "plot_sine(axes_example,sine_parameterbox.value['w'],sine_parameterbox.value['a'],sine_parameterbox.value['abval'])\n",
    "\n",
    "def update_visualizers(w,a, abval, visualizers):\n",
    "    pyplot_output = visualizers[0]\n",
    "    axes = pyplot_output.figure.get_axes()\n",
    "    plot_sine(axes,w,a,abval)\n",
    "p = CodeDemo(\n",
    "            input_parameters_box = sine_parameterbox,\n",
    "            visualizers=[example_pyplot_output],\n",
    "            update_visualizers=update_visualizers\n",
    "            ) \n",
    "display(p)"
   ]
  },
  {
   "cell_type": "markdown",
   "metadata": {},
   "source": [
    "# Code widgets"
   ]
  },
  {
   "cell_type": "markdown",
   "metadata": {},
   "source": [
    "Some exercises require inputting short code snippets into a dedicated code widget. This code forms the body of a function, whose return value can then be checked by plotting, or by comparison with known reference values. The function is compiled as a stand-alone python code, so you can only use variables and modules that are defined or imported within its scope."
   ]
  },
  {
   "cell_type": "code",
   "execution_count": 14,
   "metadata": {
    "ExecuteTime": {
     "end_time": "2022-11-27T20:53:34.064309Z",
     "start_time": "2022-11-27T20:53:33.836966Z"
    },
    "scrolled": true
   },
   "outputs": [
    {
     "data": {
      "application/vnd.jupyter.widget-view+json": {
       "model_id": "5b60efbaac474a95a221fb9acfadf1fd",
       "version_major": 2,
       "version_minor": 0
      },
      "text/plain": [
       "CodeDemo(children=(HBox(children=(CodeDemoBox(_dom_classes=('scwidget-box',)), CodeDemoBox(_dom_classes=('scwi…"
      ]
     },
     "metadata": {},
     "output_type": "display_data"
    }
   ],
   "source": [
    "cw = WidgetCodeInput(\n",
    "        function_name=\"plot_function\", \n",
    "        function_parameters=\"x, a, w, f_abs\",\n",
    "        code_theme = \"default\",\n",
    "        docstring=\"\"\"\n",
    "Computes the sine function with a given frequency and amplitude, optionally taking the absolute value\n",
    "\n",
    ":param x: the input variable\n",
    ":param a: the amplitude\n",
    ":param w: the frequency\n",
    ":param f_abs: bool: take the absolute value?\n",
    "\n",
    ":return: abs(a*sin(w x)) if f_abs else a*sin(w x)\n",
    "\"\"\",\n",
    "            function_body=\"\"\"\n",
    "# Write your solution, then click on the button below to update the plotter and check against the reference values\n",
    "import numpy as np\n",
    "return 0.0*np.array(x)\n",
    "\"\"\"\n",
    "        )\n",
    "\n",
    "# Correct answer, only for testing purposes:\n",
    "cw.function_body = \"\"\"\n",
    "import numpy as np\n",
    "if not f_abs:\n",
    "\treturn a*np.sin(w*x)\n",
    "else:\n",
    "\treturn np.abs(a*np.sin(w*x))\n",
    "\"\"\"\n",
    "\n",
    "#We prepare the visualization and their update callback:\n",
    "fig2 = plt.figure()\n",
    "fig2.add_subplot(111)\n",
    "sine_pyplot_output_exercise =  PyplotOutput(fig2)\n",
    "\n",
    "sine_parameterbox = ParametersBox(update_mode = \"continuous\",a = (2., 1,100, 2, r'$A$'), w = (2.0, 0, 10, 0.1, r'$\\omega$'),\n",
    "                                       abval=(False, r'Absolute value'))\n",
    "axes_exercise = sine_pyplot_output_exercise.figure.get_axes()\n",
    "\n",
    "\n",
    "def code_update_visualizer(a,w,abval,code_input,visualizers):\n",
    "    pyplot_output = visualizers[0]\n",
    "    axes = pyplot_output.figure.get_axes()\n",
    "    ax = axes[0]\n",
    "    sine_func = code_input.get_function_object()\n",
    "    xgrid = np.linspace(0,5,100)\n",
    "    ax.plot(xgrid,sine_func(xgrid,a,w,abval))\n",
    "    ax.set_ylabel(r\"$\\sin x$\")\n",
    "    ax.set_xlabel(\"$x$\")\n",
    "    \n",
    "#Initialize CodeDemo and initialize it's checks in the check_registry:\n",
    "sine_code_demo = CodeDemo( \n",
    "            code_input = cw,\n",
    "            check_registry=check_registry,\n",
    "            input_parameters_box = sine_parameterbox,\n",
    "            visualizers=[sine_pyplot_output_exercise],\n",
    "            update_visualizers=code_update_visualizer,\n",
    "            ) \n",
    "\n",
    "input_parameters_exercise1 = [{\"x\" : 1, \"a\" : 1, \"w\" : 1, \"f_abs\" : True},\n",
    "                              {\"x\" : np.pi/2, \"a\" : 2, \"w\" : 1, \"f_abs\" : False},\n",
    "                              {\"x\" : 0, \"a\" : 3, \"w\" : 0.5, \"f_abs\" : True}]\n",
    "\n",
    "check_registry.add_check(sine_code_demo,\n",
    "                         input_parameters_exercise1,\n",
    "                         reference_outputs=[0.8414709848078965, 2.0, 0.0],\n",
    "                         equal=np.allclose)\n",
    "\n",
    "sine_code_demo.run_and_display_demo()"
   ]
  },
  {
   "cell_type": "code",
   "execution_count": 15,
   "metadata": {
    "ExecuteTime": {
     "end_time": "2022-11-27T20:53:46.709118Z",
     "start_time": "2022-11-27T20:53:46.671032Z"
    }
   },
   "outputs": [
    {
     "name": "stdout",
     "output_type": "stream",
     "text": [
      "Check 0:\n",
      "[0.8414709848078965, 2.0, 0.0]\n"
     ]
    }
   ],
   "source": [
    "check_registry.print_reference_outputs(sine_code_demo)"
   ]
  },
  {
   "cell_type": "markdown",
   "metadata": {},
   "source": [
    "These can also be combined with a structure visualizer to generate atomic structures"
   ]
  },
  {
   "cell_type": "code",
   "execution_count": 16,
   "metadata": {
    "ExecuteTime": {
     "end_time": "2022-11-27T20:53:47.730148Z",
     "start_time": "2022-11-27T20:53:47.689851Z"
    }
   },
   "outputs": [],
   "source": [
    "cw2 = WidgetCodeInput(\n",
    "        function_name=\"write_structure\", \n",
    "        function_parameters=\"\",\n",
    "        code_theme = \"default\",\n",
    "        docstring=\"\"\"\n",
    "Generate an atomic structure for water, with a structure corresponding to the XYZ file\n",
    "3\n",
    "H2O molecule\n",
    "O  0   0   0\n",
    "H  0.7 0.5 0\n",
    "H -0.7 0.5 0\n",
    "\n",
    ":return: an ASE atoms object that can be visualized in a 3D structure viewer\n",
    "\"\"\",\n",
    "        function_body=\"\"\"\n",
    "# Write your solution, then click on the button below to update the plotter and check against the reference values\n",
    "import ase\n",
    "\n",
    "structure = ase.Atoms(\"OH2\", positions=[[0,0,0],[0.7,0.5,0],[-0.7,0.5,0]])\n",
    "\n",
    "# you can also print messages to debug (they will appear in the space below the widget)\n",
    "#print(\"Structure symbols: \", structure.symbols)\n",
    "\n",
    "# and even plot stuff if you feel like (uncomment to see this)\n",
    "# import matplotlib.pyplot as plt\n",
    "# plt.clf()\n",
    "# plt.plot([0, 1, 2], [0, 1, 4], 'r*')\n",
    "# plt.show()\n",
    "\n",
    "# ... where errors will also appear (uncomment this line)\n",
    "# p = ase.nonexistentcall\n",
    "\n",
    "return structure\n",
    "\"\"\"\n",
    "        )"
   ]
  },
  {
   "cell_type": "code",
   "execution_count": 18,
   "metadata": {
    "ExecuteTime": {
     "end_time": "2022-11-27T20:54:06.648834Z",
     "start_time": "2022-11-27T20:54:06.539738Z"
    },
    "scrolled": false
   },
   "outputs": [
    {
     "data": {
      "application/vnd.jupyter.widget-view+json": {
       "model_id": "bf30df6fd81e46ffa557be51d7857a33",
       "version_major": 2,
       "version_minor": 0
      },
      "text/plain": [
       "CodeDemo(children=(HBox(children=(CodeDemoBox(_dom_classes=('scwidget-box',)), CodeDemoBox(_dom_classes=('scwi…"
      ]
     },
     "metadata": {},
     "output_type": "display_data"
    }
   ],
   "source": [
    "def chemiscope_update_visualizers_structure(code_input, visualizers):\n",
    "    cleared_output = visualizers[0]\n",
    "    frame = code_input.get_function_object()()\n",
    "    with cleared_output:\n",
    "        chemiscope_widget = chemiscope.show(frames = [frame], mode=\"structure\")\n",
    "        display(chemiscope_widget)\n",
    "\n",
    "\n",
    "    \n",
    "def cs_code_demo_custom_assert(atoms, ref_atoms):\n",
    "    #Can have custom asserts:\n",
    "    assert 8 in atoms.numbers, \"Oxygen expected in the molecule. No oxygen was found\"\n",
    "    assert 1 in atoms.numbers, \"Hydrogen expected in the molecule. No hydrogen was found\"\n",
    "    \n",
    "    # these asserts are not invariant to rotations and permutations\n",
    "    assert np.allclose(atoms.positions, ref_atoms.positions), \\\n",
    "            f\"Expected positions:\\n{ref_atoms.positions}\\nbut got:\\n{atoms.positions}\"\n",
    "    assert np.allclose(atoms.numbers, ref_atoms.numbers), \\\n",
    "            f\"Expected numbers:\\n{ref_atoms.numbers}\\nbut got:\\n{atoms.numbers}\"\n",
    "\n",
    "\n",
    "cs_code_demo = CodeDemo(\n",
    "    code_input = cw2,\n",
    "    check_registry= check_registry,\n",
    "    visualizers=[ClearedOutput()],\n",
    "    update_visualizers=chemiscope_update_visualizers_structure,\n",
    ")\n",
    "\n",
    "# problem with this approach, student easily sees the solution\n",
    "cs_code_demo_reference_atoms = Atoms(symbols='OH2',\n",
    "                      positions=[[0.0, 0.0, 0.0],\n",
    "                                 [0.7, 0.5, 0.0],\n",
    "                                 [-0.7, 0.5, 0.0]],\n",
    "                      cell=[[0.0, 0.0, 0.0],\n",
    "                            [0.0, 0.0, 0.0],\n",
    "                            [0.0, 0.0, 0.0]],\n",
    "                      pbc=[False, False, False])\n",
    "\n",
    "check_registry.add_check(cs_code_demo,\n",
    "                         inputs_parameters=[{}],\n",
    "                         reference_outputs=[cs_code_demo_reference_atoms],\n",
    "                         custom_asserts=cs_code_demo_custom_assert)\n",
    "\n",
    "cs_code_demo.run_and_display_demo()"
   ]
  },
  {
   "cell_type": "code",
   "execution_count": 19,
   "metadata": {
    "ExecuteTime": {
     "end_time": "2022-11-27T20:54:43.835640Z",
     "start_time": "2022-11-27T20:54:43.790932Z"
    }
   },
   "outputs": [
    {
     "name": "stdout",
     "output_type": "stream",
     "text": [
      "Check 0:\n",
      "[Atoms(symbols='OH2', pbc=False)]\n"
     ]
    }
   ],
   "source": [
    "# printing output so we can put it back\n",
    "check_registry.print_reference_outputs(cs_code_demo)\n"
   ]
  },
  {
   "cell_type": "code",
   "execution_count": 25,
   "metadata": {
    "ExecuteTime": {
     "end_time": "2022-11-27T20:54:53.341586Z",
     "start_time": "2022-11-27T20:54:53.309727Z"
    }
   },
   "outputs": [
    {
     "data": {
      "text/plain": [
       "<function __main__.format_ase_atoms(widget_output)>"
      ]
     },
     "execution_count": 25,
     "metadata": {},
     "output_type": "execute_result"
    }
   ],
   "source": [
    "a = Atoms\n",
    "format_ase_atoms"
   ]
  },
  {
   "cell_type": "code",
   "execution_count": 26,
   "metadata": {
    "ExecuteTime": {
     "end_time": "2022-11-27T20:54:53.892729Z",
     "start_time": "2022-11-27T20:54:53.857472Z"
    }
   },
   "outputs": [
    {
     "name": "stdout",
     "output_type": "stream",
     "text": [
      "Check 0:\n",
      "[ase.Atoms(symbols=OH2, positions=[[ 0.   0.   0. ]\n",
      " [ 0.7  0.5  0. ]\n",
      " [-0.7  0.5  0. ]], cell=Cell([0.0, 0.0, 0.0]), pbc=[False False False])]\n"
     ]
    }
   ],
   "source": [
    "# printed output is not so helpful, so we do a different approach using a fingerprint function\n",
    "\n",
    "\n",
    "# printing function allows additional argument which makes copy pasting easier\n",
    "def format_ase_atoms(widget_output):\n",
    "    return \"ase.Atoms(symbols=\" + str(widget_output.symbols) + \\\n",
    "            \", positions=\" + str (widget_output.positions) + \\\n",
    "            \", cell=\" + str(widget_output.cell) + \\\n",
    "            \", pbc=\" + str(widget_output.pbc) + \\\n",
    "            \")\"\n",
    "check_registry.print_widget_outputs(cs_code_demo, widget_output_to_str=format_ase_atoms)\n"
   ]
  },
  {
   "cell_type": "code",
   "execution_count": null,
   "metadata": {},
   "outputs": [],
   "source": []
  },
  {
   "cell_type": "code",
   "execution_count": 27,
   "metadata": {
    "ExecuteTime": {
     "end_time": "2022-11-27T20:54:54.414090Z",
     "start_time": "2022-11-27T20:54:54.367658Z"
    }
   },
   "outputs": [
    {
     "ename": "NameError",
     "evalue": "name 'functools' is not defined",
     "output_type": "error",
     "traceback": [
      "\u001b[0;31m---------------------------------------------------------------------------\u001b[0m",
      "\u001b[0;31mNameError\u001b[0m                                 Traceback (most recent call last)",
      "Input \u001b[0;32mIn [27]\u001b[0m, in \u001b[0;36m<cell line: 9>\u001b[0;34m()\u001b[0m\n\u001b[1;32m      7\u001b[0m \u001b[38;5;28;01mdef\u001b[39;00m \u001b[38;5;21mfoo2\u001b[39m(\u001b[38;5;28mself\u001b[39m):\n\u001b[1;32m      8\u001b[0m     \u001b[38;5;28;01mreturn\u001b[39;00m \u001b[38;5;124m\"\u001b[39m\u001b[38;5;124mnot\u001b[39m\u001b[38;5;124m\"\u001b[39m\n\u001b[0;32m----> 9\u001b[0m b\u001b[38;5;241m.\u001b[39m\u001b[38;5;21m__str__\u001b[39m \u001b[38;5;241m=\u001b[39m \u001b[43mfunctools\u001b[49m\u001b[38;5;241m.\u001b[39mpartial(foo2, b)\n\u001b[1;32m     11\u001b[0m \u001b[38;5;28mprint\u001b[39m(b)\n",
      "\u001b[0;31mNameError\u001b[0m: name 'functools' is not defined"
     ]
    }
   ],
   "source": [
    "class A:\n",
    "    def __init__(self):\n",
    "        pass\n",
    "    def __str__(self):\n",
    "        return \"dump\"\n",
    "b = A()\n",
    "def foo2(self):\n",
    "    return \"not\"\n",
    "b.__str__ = functools.partial(foo2, b)\n",
    "\n",
    "print(b)"
   ]
  },
  {
   "cell_type": "code",
   "execution_count": 28,
   "metadata": {
    "ExecuteTime": {
     "end_time": "2022-11-27T20:54:55.021238Z",
     "start_time": "2022-11-27T20:54:54.971162Z"
    }
   },
   "outputs": [
    {
     "ename": "NameError",
     "evalue": "name 'ase' is not defined",
     "output_type": "error",
     "traceback": [
      "\u001b[0;31m---------------------------------------------------------------------------\u001b[0m",
      "\u001b[0;31mNameError\u001b[0m                                 Traceback (most recent call last)",
      "Input \u001b[0;32mIn [28]\u001b[0m, in \u001b[0;36m<cell line: 2>\u001b[0;34m()\u001b[0m\n\u001b[1;32m      1\u001b[0m \u001b[38;5;28;01mimport\u001b[39;00m \u001b[38;5;21;01mfunctools\u001b[39;00m\n\u001b[0;32m----> 2\u001b[0m a \u001b[38;5;241m=\u001b[39m \u001b[43mase\u001b[49m\u001b[38;5;241m.\u001b[39mAtoms(\u001b[38;5;124m'\u001b[39m\u001b[38;5;124mH\u001b[39m\u001b[38;5;124m'\u001b[39m)\n\u001b[1;32m      3\u001b[0m \u001b[38;5;28;01mdef\u001b[39;00m \u001b[38;5;21mfoo\u001b[39m(\u001b[38;5;28mself\u001b[39m):\n\u001b[1;32m      4\u001b[0m     \u001b[38;5;28;01mreturn\u001b[39;00m \u001b[38;5;124m\"\u001b[39m\u001b[38;5;124mase.Atoms(symbols=\u001b[39m\u001b[38;5;124m\"\u001b[39m \u001b[38;5;241m+\u001b[39m \u001b[38;5;28mstr\u001b[39m(\u001b[38;5;28mself\u001b[39m\u001b[38;5;241m.\u001b[39msymbols) \u001b[38;5;241m+\u001b[39m \\\n\u001b[1;32m      5\u001b[0m             \u001b[38;5;124m\"\u001b[39m\u001b[38;5;124m, positions=\u001b[39m\u001b[38;5;124m\"\u001b[39m \u001b[38;5;241m+\u001b[39m \u001b[38;5;28mstr\u001b[39m (\u001b[38;5;28mself\u001b[39m\u001b[38;5;241m.\u001b[39mpositions) \u001b[38;5;241m+\u001b[39m \\\n\u001b[1;32m      6\u001b[0m             \u001b[38;5;124m\"\u001b[39m\u001b[38;5;124m, cell=\u001b[39m\u001b[38;5;124m\"\u001b[39m \u001b[38;5;241m+\u001b[39m \u001b[38;5;28mstr\u001b[39m(\u001b[38;5;28mself\u001b[39m\u001b[38;5;241m.\u001b[39mcell) \u001b[38;5;241m+\u001b[39m \\\n\u001b[1;32m      7\u001b[0m             \u001b[38;5;124m\"\u001b[39m\u001b[38;5;124m, pbc=\u001b[39m\u001b[38;5;124m\"\u001b[39m \u001b[38;5;241m+\u001b[39m \u001b[38;5;28mstr\u001b[39m(\u001b[38;5;28mself\u001b[39m\u001b[38;5;241m.\u001b[39mpbc) \u001b[38;5;241m+\u001b[39m \\\n\u001b[1;32m      8\u001b[0m             \u001b[38;5;124m\"\u001b[39m\u001b[38;5;124m)\u001b[39m\u001b[38;5;124m\"\u001b[39m\n",
      "\u001b[0;31mNameError\u001b[0m: name 'ase' is not defined"
     ]
    }
   ],
   "source": [
    "import functools\n",
    "a = ase.Atoms('H')\n",
    "def foo(self):\n",
    "    return \"ase.Atoms(symbols=\" + str(self.symbols) + \\\n",
    "            \", positions=\" + str (self.positions) + \\\n",
    "            \", cell=\" + str(self.cell) + \\\n",
    "            \", pbc=\" + str(self.pbc) + \\\n",
    "            \")\"\n",
    "a.__str__ = functools.partial(foo, a)\n",
    "a.__repr__ = functools.partial(foo, a)\n",
    "\n",
    "print(a)\n",
    "str(a)"
   ]
  },
  {
   "cell_type": "code",
   "execution_count": 32,
   "metadata": {
    "ExecuteTime": {
     "end_time": "2022-11-27T20:55:02.180338Z",
     "start_time": "2022-11-27T20:55:02.126913Z"
    }
   },
   "outputs": [
    {
     "ename": "NameError",
     "evalue": "name 'foo' is not defined",
     "output_type": "error",
     "traceback": [
      "\u001b[0;31m---------------------------------------------------------------------------\u001b[0m",
      "\u001b[0;31mNameError\u001b[0m                                 Traceback (most recent call last)",
      "Input \u001b[0;32mIn [32]\u001b[0m, in \u001b[0;36m<cell line: 6>\u001b[0;34m()\u001b[0m\n\u001b[1;32m      4\u001b[0m     \u001b[38;5;28;01mdef\u001b[39;00m \u001b[38;5;21m__str__\u001b[39m(\u001b[38;5;28mself\u001b[39m):\n\u001b[1;32m      5\u001b[0m         \u001b[38;5;28;01mreturn\u001b[39;00m foo(\u001b[38;5;28mself\u001b[39m\u001b[38;5;241m.\u001b[39m_obj)\n\u001b[0;32m----> 6\u001b[0m \u001b[38;5;28;43mprint\u001b[39;49m\u001b[43m(\u001b[49m\u001b[43mChangePrintBehaviour\u001b[49m\u001b[43m(\u001b[49m\u001b[43ma\u001b[49m\u001b[43m)\u001b[49m\u001b[43m)\u001b[49m\n",
      "Input \u001b[0;32mIn [32]\u001b[0m, in \u001b[0;36mChangePrintBehaviour.__str__\u001b[0;34m(self)\u001b[0m\n\u001b[1;32m      4\u001b[0m \u001b[38;5;28;01mdef\u001b[39;00m \u001b[38;5;21m__str__\u001b[39m(\u001b[38;5;28mself\u001b[39m):\n\u001b[0;32m----> 5\u001b[0m     \u001b[38;5;28;01mreturn\u001b[39;00m \u001b[43mfoo\u001b[49m(\u001b[38;5;28mself\u001b[39m\u001b[38;5;241m.\u001b[39m_obj)\n",
      "\u001b[0;31mNameError\u001b[0m: name 'foo' is not defined"
     ]
    }
   ],
   "source": [
    "class ChangePrintBehaviour:\n",
    "    def __init__(self, obj):\n",
    "        self._obj = obj\n",
    "    def __str__(self):\n",
    "        return foo(self._obj)\n",
    "print(ChangePrintBehaviour(a))"
   ]
  },
  {
   "cell_type": "code",
   "execution_count": 33,
   "metadata": {
    "ExecuteTime": {
     "end_time": "2022-11-27T20:55:02.468648Z",
     "start_time": "2022-11-27T20:55:02.423676Z"
    }
   },
   "outputs": [
    {
     "ename": "TypeError",
     "evalue": "Atoms.__repr__() missing 1 required positional argument: 'self'",
     "output_type": "error",
     "traceback": [
      "\u001b[0;31m---------------------------------------------------------------------------\u001b[0m",
      "\u001b[0;31mTypeError\u001b[0m                                 Traceback (most recent call last)",
      "Input \u001b[0;32mIn [33]\u001b[0m, in \u001b[0;36m<cell line: 1>\u001b[0;34m()\u001b[0m\n\u001b[0;32m----> 1\u001b[0m \u001b[38;5;28mprint\u001b[39m(\u001b[43ma\u001b[49m\u001b[38;5;241;43m.\u001b[39;49m\u001b[38;5;21;43m__repr__\u001b[39;49m\u001b[43m(\u001b[49m\u001b[43m)\u001b[49m)\n\u001b[1;32m      2\u001b[0m \u001b[38;5;28mprint\u001b[39m(a\u001b[38;5;241m.\u001b[39m\u001b[38;5;21m__str__\u001b[39m())\n",
      "\u001b[0;31mTypeError\u001b[0m: Atoms.__repr__() missing 1 required positional argument: 'self'"
     ]
    }
   ],
   "source": [
    "print(a.__repr__())\n",
    "print(a.__str__())"
   ]
  },
  {
   "cell_type": "code",
   "execution_count": 34,
   "metadata": {
    "ExecuteTime": {
     "end_time": "2022-11-27T20:55:02.895367Z",
     "start_time": "2022-11-27T20:55:02.839163Z"
    }
   },
   "outputs": [
    {
     "ename": "TypeError",
     "evalue": "CodeDemo.__init__() got an unexpected keyword argument 'update_on_input_parameter_change'",
     "output_type": "error",
     "traceback": [
      "\u001b[0;31m---------------------------------------------------------------------------\u001b[0m",
      "\u001b[0;31mTypeError\u001b[0m                                 Traceback (most recent call last)",
      "Input \u001b[0;32mIn [34]\u001b[0m, in \u001b[0;36m<cell line: 9>\u001b[0;34m()\u001b[0m\n\u001b[1;32m      1\u001b[0m \u001b[38;5;66;03m# deepcopy does not work with WidgetCodeInput\u001b[39;00m\n\u001b[1;32m      2\u001b[0m cw2_hide_solution \u001b[38;5;241m=\u001b[39m WidgetCodeInput(\n\u001b[1;32m      3\u001b[0m         function_name\u001b[38;5;241m=\u001b[39mcw2\u001b[38;5;241m.\u001b[39mfunction_name, \n\u001b[1;32m      4\u001b[0m         function_parameters\u001b[38;5;241m=\u001b[39mcw2\u001b[38;5;241m.\u001b[39mfunction_parameters,\n\u001b[1;32m      5\u001b[0m         code_theme\u001b[38;5;241m=\u001b[39mcw2\u001b[38;5;241m.\u001b[39mcode_theme,\n\u001b[1;32m      6\u001b[0m         docstring\u001b[38;5;241m=\u001b[39mcw2\u001b[38;5;241m.\u001b[39mdocstring,\n\u001b[1;32m      7\u001b[0m         function_body\u001b[38;5;241m=\u001b[39mcw2\u001b[38;5;241m.\u001b[39mfunction_body)\n\u001b[0;32m----> 9\u001b[0m cs_code_demo_hide_solution \u001b[38;5;241m=\u001b[39m \u001b[43mCodeDemo\u001b[49m\u001b[43m(\u001b[49m\n\u001b[1;32m     10\u001b[0m \u001b[43m    \u001b[49m\u001b[43mcode_input\u001b[49m\u001b[43m \u001b[49m\u001b[38;5;241;43m=\u001b[39;49m\u001b[43m \u001b[49m\u001b[43mcw2_hide_solution\u001b[49m\u001b[43m,\u001b[49m\n\u001b[1;32m     11\u001b[0m \u001b[43m    \u001b[49m\u001b[43mcheck_registry\u001b[49m\u001b[38;5;241;43m=\u001b[39;49m\u001b[43m \u001b[49m\u001b[43mcheck_registry\u001b[49m\u001b[43m,\u001b[49m\n\u001b[1;32m     12\u001b[0m \u001b[43m    \u001b[49m\u001b[43mvisualizers\u001b[49m\u001b[38;5;241;43m=\u001b[39;49m\u001b[43m[\u001b[49m\u001b[43mClearedOutput\u001b[49m\u001b[43m(\u001b[49m\u001b[43m)\u001b[49m\u001b[43m]\u001b[49m\u001b[43m,\u001b[49m\n\u001b[1;32m     13\u001b[0m \u001b[43m    \u001b[49m\u001b[43mupdate_visualizers\u001b[49m\u001b[38;5;241;43m=\u001b[39;49m\u001b[43mchemiscope_update_visualizers_structure\u001b[49m\u001b[43m,\u001b[49m\n\u001b[1;32m     14\u001b[0m \u001b[43m    \u001b[49m\u001b[43mupdate_on_input_parameter_change\u001b[49m\u001b[43m \u001b[49m\u001b[38;5;241;43m=\u001b[39;49m\u001b[43m \u001b[49m\u001b[38;5;28;43;01mFalse\u001b[39;49;00m\n\u001b[1;32m     15\u001b[0m \u001b[43m)\u001b[49m\n\u001b[1;32m     17\u001b[0m \u001b[38;5;28;01mimport\u001b[39;00m \u001b[38;5;21;01mase\u001b[39;00m\n\u001b[1;32m     18\u001b[0m \u001b[38;5;28;01mdef\u001b[39;00m \u001b[38;5;21mcs_code_demo_hide_solution_custom_asserts\u001b[39m(output, fingerprint_of_ref_output):\n\u001b[1;32m     19\u001b[0m     \u001b[38;5;66;03m# reproduce default asserts here\u001b[39;00m\n",
      "\u001b[0;31mTypeError\u001b[0m: CodeDemo.__init__() got an unexpected keyword argument 'update_on_input_parameter_change'"
     ]
    }
   ],
   "source": [
    "# deepcopy does not work with WidgetCodeInput\n",
    "cw2_hide_solution = WidgetCodeInput(\n",
    "        function_name=cw2.function_name, \n",
    "        function_parameters=cw2.function_parameters,\n",
    "        code_theme=cw2.code_theme,\n",
    "        docstring=cw2.docstring,\n",
    "        function_body=cw2.function_body)\n",
    "        \n",
    "cs_code_demo_hide_solution = CodeDemo(\n",
    "    code_input = cw2_hide_solution,\n",
    "    check_registry= check_registry,\n",
    "    visualizers=[ClearedOutput()],\n",
    "    update_visualizers=chemiscope_update_visualizers_structure,\n",
    "    update_on_input_parameter_change = False\n",
    ")\n",
    "\n",
    "import ase\n",
    "def cs_code_demo_hide_solution_custom_asserts(output, fingerprint_of_ref_output):\n",
    "    # reproduce default asserts here\n",
    "    assert isinstance(output, ase.Atoms), f\"TypeAssert failed: Expected type ase.Atoms but got {type(output)}.\"\n",
    "    assert len(output) == 3, f\"LenAssert failed: Expected length 3 but got {len(output)}.\"\n",
    "    \n",
    "    # we do the custom asserts here\n",
    "    assert np.sum(8 == output.numbers) == 1, f\"One oxygen is expected in the molecule. Found {np.sum(8 == output.numbers)} oxygen(s).\"\n",
    "    assert np.sum(1 == output.numbers) == 2, f\"Two hydrogens are expected in the molecule. Found {np.sum(1 == output.numbers)} hydrogen(s).\"\n",
    "    \n",
    "\n",
    "check_registry.add_check(cs_code_demo_hide_solution,\n",
    "                         inputs_parameters=[{}],\n",
    "                         reference_outputs=[18.284185480676726], # UNCOMMENT THIS LINE\n",
    "                         custom_asserts=cs_code_demo_hide_solution_custom_asserts, # we specify custom assert to specify the message on failure\n",
    "                         fingerprint=format_ase_atoms,\n",
    "                         equal=np.allclose\n",
    "                        )\n",
    "\n",
    "cs_code_demo_hide_solution.run_and_display_demo()"
   ]
  },
  {
   "cell_type": "code",
   "execution_count": 35,
   "metadata": {
    "ExecuteTime": {
     "end_time": "2022-11-27T20:55:03.282260Z",
     "start_time": "2022-11-27T20:55:03.238142Z"
    }
   },
   "outputs": [
    {
     "ename": "NameError",
     "evalue": "name 'cs_code_demo_hide_solution' is not defined",
     "output_type": "error",
     "traceback": [
      "\u001b[0;31m---------------------------------------------------------------------------\u001b[0m",
      "\u001b[0;31mNameError\u001b[0m                                 Traceback (most recent call last)",
      "Input \u001b[0;32mIn [35]\u001b[0m, in \u001b[0;36m<cell line: 2>\u001b[0;34m()\u001b[0m\n\u001b[1;32m      1\u001b[0m \u001b[38;5;66;03m# we dont need to specify the fingerprint, because it is given in the check_registry\u001b[39;00m\n\u001b[0;32m----> 2\u001b[0m check_registry\u001b[38;5;241m.\u001b[39mprint_reference_outputs(\u001b[43mcs_code_demo_hide_solution\u001b[49m)\n",
      "\u001b[0;31mNameError\u001b[0m: name 'cs_code_demo_hide_solution' is not defined"
     ]
    }
   ],
   "source": [
    "# we dont need to specify the fingerprint, because it is given in the check_registry\n",
    "check_registry.print_reference_outputs(cs_code_demo_hide_solution)\n"
   ]
  }
 ],
 "metadata": {
  "kernelspec": {
   "display_name": "Python 3 (ipykernel)",
   "language": "python",
   "name": "python3"
  },
  "language_info": {
   "codemirror_mode": {
    "name": "ipython",
    "version": 3
   },
   "file_extension": ".py",
   "mimetype": "text/x-python",
   "name": "python",
   "nbconvert_exporter": "python",
   "pygments_lexer": "ipython3",
   "version": "3.10.4"
  },
  "latex_envs": {
   "LaTeX_envs_menu_present": true,
   "autoclose": false,
   "autocomplete": true,
   "bibliofile": "biblio.bib",
   "cite_by": "apalike",
   "current_citInitial": 1,
   "eqLabelWithNumbers": true,
   "eqNumInitial": 1,
   "hotkeys": {
    "equation": "Ctrl-E",
    "itemize": "Ctrl-I"
   },
   "labels_anchors": false,
   "latex_user_defs": false,
   "report_style_numbering": false,
   "user_envs_cfg": false
  },
  "toc": {
   "base_numbering": 1,
   "nav_menu": {
    "height": "160px",
    "width": "252px"
   },
   "number_sections": true,
   "sideBar": true,
   "skip_h1_title": false,
   "title_cell": "Table of Contents",
   "title_sidebar": "Contents",
   "toc_cell": false,
   "toc_position": {
    "height": "461px",
    "left": "0px",
    "right": "927.667px",
    "top": "107px",
    "width": "139px"
   },
   "toc_section_display": "block",
   "toc_window_display": false
  }
 },
 "nbformat": 4,
 "nbformat_minor": 4
}
