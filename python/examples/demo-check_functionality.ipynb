{
 "cells": [
  {
   "cell_type": "markdown",
   "id": "7f615dcd",
   "metadata": {},
   "source": [
    "### Run all first and then go through the notebook"
   ]
  },
  {
   "cell_type": "code",
   "execution_count": 1,
   "id": "ef3fcac8",
   "metadata": {},
   "outputs": [
    {
     "data": {
      "text/html": [
       "<style>.scwidget-button{\n",
       "    border :  3px solid;\n",
       "    border-color: #f4f2f0;\n",
       "    background-color: #f4f2f0;\n",
       "    height: auto;\n",
       "}\n",
       ".scwidget-button--out-of-date{\n",
       "    border-color: #e95420;\n",
       "}\n",
       ".scwidget-button--unchecked{\n",
       "    border-color: #20b5e9;\n",
       "}\n",
       ".scwidget-button--unsaved{\n",
       "    border-color: #77216f;\n",
       "}\n",
       "\n",
       ".scwidget-box{\n",
       "    border : 1px solid;\n",
       "    border-color: #f4f2f0;\n",
       "    background-color: #f4f2f0;\n",
       "}\n",
       ".scwidget-box--out-of-date{\n",
       "    border-color: #e95420;\n",
       "    background-color: #e95420;\n",
       "}\n",
       ".scwidget-box--unchecked{\n",
       "    border-color: #20b5e9;\n",
       "    background-color: #20b5e9;\n",
       "}\n",
       ".scwidget-box--unsaved{\n",
       "    border-color: #77216f;\n",
       "    background-color: #77216f;\n",
       "}\n",
       "\n",
       ".scwidget-visualizer{\n",
       "    opacity: 1.0;\n",
       "}\n",
       ".scwidget-visualizer--out-of-date{\n",
       "    opacity: 0.4;\n",
       "}\n",
       "\n",
       ".scwidget-loading-image{\n",
       "    opacity: 0.0;\n",
       "}\n",
       ".scwidget-loading-image--updating{\n",
       "    opacity: 1.0;\n",
       "}\n",
       ".scwidget-loading-image--checking{\n",
       "    opacity: 1.0;\n",
       "}\n",
       "</style>"
      ],
      "text/plain": [
       "<IPython.core.display.HTML object>"
      ]
     },
     "metadata": {},
     "output_type": "display_data"
    }
   ],
   "source": [
    "import numpy as np\n",
    "\n",
    "%matplotlib widget\n",
    "import matplotlib.pyplot as plt\n",
    "\n",
    "from scwidgets import (CodeDemo, ParametersBox, CodeCheckerRegistry, PyplotOutput, ClearedOutput, AnimationOutput,\n",
    "                       AnswerRegistry, CodeCheckerRegistry, GLOBAL_TRAITS)\n",
    "\n",
    "from widget_code_input import WidgetCodeInput"
   ]
  },
  {
   "cell_type": "markdown",
   "id": "844e4ce6",
   "metadata": {},
   "source": [
    "### Please load \"demo-check_functionality-reference.json\""
   ]
  },
  {
   "cell_type": "code",
   "execution_count": 2,
   "id": "2f400602",
   "metadata": {},
   "outputs": [
    {
     "data": {
      "application/vnd.jupyter.widget-view+json": {
       "model_id": "2697476c407e4b34ba43e172d01b9022",
       "version_major": 2,
       "version_minor": 0
      },
      "text/plain": [
       "AnswerRegistry(children=(Output(layout=Layout(height='100%', width='100%')), HBox(children=(Dropdown(descripti…"
      ]
     },
     "metadata": {},
     "output_type": "display_data"
    }
   ],
   "source": [
    "answer_registry = AnswerRegistry(prefix=\"demo-check_functionality\")\n",
    "display(answer_registry)"
   ]
  },
  {
   "cell_type": "code",
   "execution_count": 3,
   "id": "6df83e44",
   "metadata": {},
   "outputs": [],
   "source": [
    "# to prevent error message if no checker file exist \n",
    "GLOBAL_TRAITS.teacher_mode = True"
   ]
  },
  {
   "cell_type": "code",
   "execution_count": 4,
   "id": "478a233b",
   "metadata": {},
   "outputs": [
    {
     "data": {
      "application/vnd.jupyter.widget-view+json": {
       "model_id": "97a96eafd8e94ea783c93a96b1ecffea",
       "version_major": 2,
       "version_minor": 0
      },
      "text/plain": [
       "CodeCheckerRegistry(children=(Output(layout=Layout(height='100%', width='100%')), Box(children=(Button(descrip…"
      ]
     },
     "metadata": {},
     "output_type": "display_data"
    }
   ],
   "source": [
    "check_registry = CodeCheckerRegistry('demo-check_functionality-checker_file.json') \n",
    "display(check_registry)"
   ]
  },
  {
   "cell_type": "code",
   "execution_count": 5,
   "id": "73a4675c",
   "metadata": {},
   "outputs": [],
   "source": [
    "GLOBAL_TRAITS.teacher_mode = False"
   ]
  },
  {
   "cell_type": "code",
   "execution_count": 6,
   "id": "2c9e8e1e",
   "metadata": {},
   "outputs": [],
   "source": [
    "# utility function for plotting lattice, not essential for understanding the code demo\n",
    "def plot_lattice(ax, a1, a2, basis=None, alphas=None, s=20, c='red', \n",
    "                 lattice_size = 60, head_length = 0.5, head_width= 0.2, width=0.05):\n",
    "    if basis is None:\n",
    "        basis = np.array([[0,0]])\n",
    "    A = np.array([a1, a2])\n",
    "    # each atom in the basis gets a different basis alpha value when plotted\n",
    "    if alphas is None:\n",
    "        alphas = np.linspace(1, 0.3, len(basis))\n",
    "    for i in range(len(basis)):\n",
    "        lattice = (np.mgrid[:lattice_size,:lattice_size].T @ A + basis[i]).reshape(-1, 2)\n",
    "        lattice -= (np.array([lattice_size//2,lattice_size//2]) @ A).reshape(-1, 2)\n",
    "        ax.scatter(lattice[:,0], lattice[:,1], color=c, s=s, alpha=alphas[i])\n",
    "        \n",
    "    ax.fill([0,a1[0],(a1+a2)[0],a2[0]], [0,a1[1],(a1+a2)[1],a2[1]], color=c, alpha=0.2)\n",
    "    ax.arrow(0,0, a1[0], a1[1],width=width,\n",
    "             length_includes_head=True,\n",
    "             fc=c, ec='black')\n",
    "    ax.arrow(0,0, a2[0], a2[1],width=width,\n",
    "             length_includes_head=True,\n",
    "             fc=c, ec='black')"
   ]
  },
  {
   "cell_type": "markdown",
   "id": "a5102c80",
   "metadata": {},
   "source": [
    "## 1.0 From input arugments, checks for type, shape/len and output are automatically created."
   ]
  },
  {
   "cell_type": "markdown",
   "id": "dac06bf6",
   "metadata": {},
   "source": [
    "### At the moment nested outputs do not work (e.g. tuples or list of arrays). "
   ]
  },
  {
   "cell_type": "code",
   "execution_count": 7,
   "id": "93151f22",
   "metadata": {},
   "outputs": [
    {
     "data": {
      "application/vnd.jupyter.widget-view+json": {
       "model_id": "e14ae3a887f34eb5ab9b6cbcf01490aa",
       "version_major": 2,
       "version_minor": 0
      },
      "text/plain": [
       "CodeDemo(children=(HBox(children=(CodeDemoBox(_dom_classes=('scwidget-box', 'scwidget-box--unchecked')), VBox(…"
      ]
     },
     "metadata": {},
     "output_type": "display_data"
    }
   ],
   "source": [
    "example1p0_code_input = WidgetCodeInput(\n",
    "    function_name=\"reciprocal_lattice\",\n",
    "    function_parameters=\"a0, a1\",\n",
    "    docstring=\"\"\"\n",
    "Return the 2D reciprocal unit cell vectors.\n",
    "\n",
    ":param a0: unit cell vector a0\n",
    ":param a1: unit cell vector a1\n",
    "\n",
    ":return: reciprocal lattice unit cell vectors\n",
    "\"\"\",\n",
    "    function_body=\"\"\"\n",
    "\n",
    "import numpy as np\n",
    "from numpy import pi\n",
    "\n",
    "a0 = np.asarray(a0)\n",
    "a1 = np.asarray(a1)\n",
    "\n",
    "R = np.array([[0,-1],[1,0]])\n",
    "\n",
    "b = np.zeros((2,2))\n",
    "\n",
    "# Click on \"Create check\", \"Save answer\".\n",
    "b[0] = 2*np.pi*R@a1/(a0@R@a1)\n",
    "b[1] = 2*np.pi*R@a0/(a1@R@a0)\n",
    "\n",
    "# Try \"Check\" with one of the out put below\n",
    "# these checks are created automatic\n",
    "\n",
    "# Wrong type\n",
    "#b = 1.\n",
    "\n",
    "# Wrong shape\n",
    "#b = np.ones(2)\n",
    "\n",
    "# Wrong solution\n",
    "#b[0] = 2*pi*a0\n",
    "#b[1] = 2*pi*a1\n",
    "\n",
    "return b\n",
    "\"\"\"\n",
    ")\n",
    "\n",
    "\n",
    "example1p0_code_demo = CodeDemo(\n",
    "    code_input=example1p0_code_input,\n",
    "    code_checker=check_registry,\n",
    "    update_on_input_parameter_change=False\n",
    ")\n",
    "\n",
    "answer_registry.register_answer_widget(\"example1p0_code_demo\", example1p0_code_demo)\n",
    "check_registry.init_checks(\"example1p0_code_demo\", example1p0_code_demo) # resets existing checks\n",
    "\n",
    "input_parameters = [{\"a0\": [0, 1], \"a1\": [1, 0]},\n",
    "                    {\"a0\": [1, 1], \"a1\": [1, -1]},\n",
    "                    {\"a0\": [0, 2], \"a1\": [2, 1]}]\n",
    "\n",
    "check_registry.add_check(\"example1p0_code_demo\",\n",
    "                         input_parameters, equal_function=np.allclose) # np.allclose is automatically chosen\n",
    "\n",
    "display(example1p0_code_demo)"
   ]
  },
  {
   "cell_type": "code",
   "execution_count": 8,
   "id": "535384d1-900f-4353-babc-34eaac2348e6",
   "metadata": {},
   "outputs": [],
   "source": [
    "GLOBAL_TRAITS.teacher_mode = True"
   ]
  },
  {
   "cell_type": "code",
   "execution_count": 9,
   "id": "e7db405a-08bc-41be-b7a3-dd65e179a433",
   "metadata": {},
   "outputs": [],
   "source": [
    "check_registry.output_check_reference(\"example1p0_code_demo\")"
   ]
  },
  {
   "cell_type": "code",
   "execution_count": 10,
   "id": "a8e1290a-fc32-4809-a967-8d913cc5cc7d",
   "metadata": {},
   "outputs": [],
   "source": [
    "check_registry.add_check_outputref(\"example1p0_code_demo\", input_parameters, output_ref=None)"
   ]
  },
  {
   "cell_type": "code",
   "execution_count": 12,
   "id": "fab918c8-726b-4592-8f3c-50812cba3770",
   "metadata": {},
   "outputs": [
    {
     "name": "stdout",
     "output_type": "stream",
     "text": [
      "<class 'scwidgets._utils.Exercise'>\n",
      "<class 'scwidgets._utils.Check'>\n",
      "{'check_id': 2, 'input_args': {'a0': [0, 1], 'a1': [1, 0]}, 'output_ref': None, 'assert_function': None, 'fingerprint_function': None, 'equal_function': None}\n"
     ]
    }
   ],
   "source": [
    "print(type(check_registry._exercises[\"example1p0_code_demo\"]))\n",
    "print(type(check_registry._exercises[\"example1p0_code_demo\"].checks[0]))\n",
    "print(check_registry._exercises[\"example1p0_code_demo\"].checks[0])\n",
    "#print(check_registry._exercises[\"example1p0_code_demo\"].checks[0].__dict__())"
   ]
  },
  {
   "cell_type": "code",
   "execution_count": null,
   "id": "acd0ac82-c055-482e-8b75-9a5bacf4af39",
   "metadata": {},
   "outputs": [],
   "source": []
  },
  {
   "cell_type": "markdown",
   "id": "ea8131f3",
   "metadata": {},
   "source": [
    "### The above function does hat have checks yet, and therefore raises an error. We activate teacher mode (see line below) and create a check (click on \"Create Check\"). Try the different uncommented outputs which invoke different checks."
   ]
  },
  {
   "cell_type": "code",
   "execution_count": 8,
   "id": "0e74fd5b",
   "metadata": {},
   "outputs": [],
   "source": [
    "# activate teacher mode\n",
    "#GLOBAL_TRAITS.teacher_mode = True"
   ]
  },
  {
   "cell_type": "markdown",
   "id": "1eedbc4e",
   "metadata": {},
   "source": [
    "### Now we have created a check file for one exercise. We can do this much simpler, once we created the reference answer file. We loaded already the reference file \"demo-check_functionality-reference.json\" at the top of the notebook where the AnswerRegistry is defined, now we only need to click on \"Create all checks\" where the CodeCheckerRegistry is defined."
   ]
  },
  {
   "cell_type": "markdown",
   "id": "721affdb-8724-448f-b3e2-f99243273203",
   "metadata": {},
   "source": [
    "## 2.0 Custom asserts"
   ]
  },
  {
   "cell_type": "code",
   "execution_count": 9,
   "id": "e51acc18-81fc-4c71-8f7e-6d9eaffff58a",
   "metadata": {},
   "outputs": [
    {
     "data": {
      "application/vnd.jupyter.widget-view+json": {
       "model_id": "0946c47732d745f9bdfe7a66b4c0e52f",
       "version_major": 2,
       "version_minor": 0
      },
      "text/plain": [
       "CodeDemo(children=(HBox(children=(CodeDemoBox(_dom_classes=('scwidget-box', 'scwidget-box--unchecked')), VBox(…"
      ]
     },
     "metadata": {},
     "output_type": "display_data"
    }
   ],
   "source": [
    "example2p0_code_input = WidgetCodeInput(\n",
    "    function_name=\"reciprocal_lattice\",\n",
    "    function_parameters=\"a0, a1\",\n",
    "    docstring=\"\"\"\n",
    "Return the 2D reciprocal unit cell vectors.\n",
    "\n",
    ":param a0: unit cell vector a0\n",
    ":param a1: unit cell vector a1\n",
    "\n",
    ":return: reciprocal lattice unit cell vectors\n",
    "\"\"\",\n",
    "    function_body=\"\"\"\n",
    "\n",
    "import numpy as np\n",
    "from numpy import pi\n",
    "\n",
    "a0 = np.asarray(a0)\n",
    "a1 = np.asarray(a1)\n",
    "\n",
    "R = np.array([[0,-1],[1,0]])\n",
    "\n",
    "b = np.zeros((2,2))\n",
    "\n",
    "# Click on \"Create check\", \"Save answer\".\n",
    "b[0] = 2*np.pi*R@a1/(a0@R@a1)\n",
    "b[1] = 2*np.pi*R@a0/(a1@R@a0)\n",
    "\n",
    "# Try \"Check\" with one of the out put below\n",
    "# these checks are created automatic\n",
    "\n",
    "# Wrong solution and not orthogonal\n",
    "#b[0] = np.ones([1,1])\n",
    "#b[1] = np.ones([1,1])\n",
    "\n",
    "# Wrong solution but orthogonal\n",
    "#b[0] = 2*pi*a1\n",
    "#b[1] = 2*pi*a0\n",
    "\n",
    "return b\n",
    "\"\"\"\n",
    ")\n",
    "\n",
    "\n",
    "example2p0_code_demo = CodeDemo(\n",
    "    code_input=example2p0_code_input,\n",
    "    code_checker=check_registry,\n",
    "    update_on_input_parameter_change=False\n",
    ")\n",
    "\n",
    "answer_registry.register_answer_widget(\"example2p0_code_demo\", example2p0_code_demo)\n",
    "check_registry.init_checks(\"example2p0_code_demo\", example2p0_code_demo) # resets existing checks\n",
    "\n",
    "input_parameters = [{\"a0\": [0, 1], \"a1\": [1, 0]},\n",
    "                    {\"a0\": [1, 1], \"a1\": [1, -1]}]\n",
    "\n",
    "def orthogonal_assert(out_student, out_teacher):\n",
    "    assert out_student[0] @ out_student[1] == 0., \"Reciprocal lattice vectors are not orthogonal for orthogonal input.\"\n",
    "\n",
    "\n",
    "check_registry.add_check(\"example2p0_code_demo\",\n",
    "                         input_parameters,\n",
    "                         assert_function=orthogonal_assert,\n",
    "                         equal_function=np.allclose) # np.allclose is automatically chosen\n",
    "\n",
    "display(example2p0_code_demo)"
   ]
  },
  {
   "cell_type": "markdown",
   "id": "6ae42dcd-12da-4836-8c9c-1479e1381237",
   "metadata": {},
   "source": [
    "## 3.0 Fingerprint function"
   ]
  },
  {
   "cell_type": "code",
   "execution_count": 10,
   "id": "9c56a038-19fc-4e56-8a9e-d65fa1842f56",
   "metadata": {},
   "outputs": [
    {
     "data": {
      "application/vnd.jupyter.widget-view+json": {
       "model_id": "bea3a09141134ec89b346ceaa1a82623",
       "version_major": 2,
       "version_minor": 0
      },
      "text/plain": [
       "CodeDemo(children=(HBox(children=(CodeDemoBox(_dom_classes=('scwidget-box', 'scwidget-box--unchecked')), VBox(…"
      ]
     },
     "metadata": {},
     "output_type": "display_data"
    }
   ],
   "source": [
    "example3p0_code_input = WidgetCodeInput(\n",
    "    function_name=\"reciprocal_lattice\",\n",
    "    function_parameters=\"a0, a1\",\n",
    "    docstring=\"\"\"\n",
    "Return the 2D reciprocal unit cell vectors.\n",
    "\n",
    ":param a0: unit cell vector a0\n",
    ":param a1: unit cell vector a1\n",
    "\n",
    ":return: reciprocal lattice unit cell vectors\n",
    "\"\"\",\n",
    "    function_body=\"\"\"\n",
    "\n",
    "import numpy as np\n",
    "from numpy import pi\n",
    "\n",
    "a0 = np.asarray(a0)\n",
    "a1 = np.asarray(a1)\n",
    "\n",
    "R = np.array([[0,-1],[1,0]])\n",
    "\n",
    "b = np.zeros((2,2))\n",
    "\n",
    "# Click on \"Create check\", \"Save answer\".\n",
    "b[0] = 2*np.pi*R@a1/(a0@R@a1)\n",
    "b[1] = 2*np.pi*R@a0/(a1@R@a0)\n",
    "\n",
    "# Try \"Check\" with one of the out put below\n",
    "# these checks are created automatic\n",
    "\n",
    "# Wrong solution, but this time the fingerprint is only shown\n",
    "#b[0] = 2*pi*a0\n",
    "#b[1] = 2*pi*a1 \n",
    "\n",
    "return b\n",
    "\"\"\"\n",
    ")\n",
    "\n",
    "\n",
    "example3p0_code_demo = CodeDemo(\n",
    "    code_input=example3p0_code_input,\n",
    "    code_checker=check_registry,\n",
    "    update_on_input_parameter_change=False\n",
    ")\n",
    "\n",
    "\n",
    "answer_registry.register_answer_widget(\"example3p0_code_demo\", example3p0_code_demo)\n",
    "check_registry.init_checks(\"example3p0_code_demo\", example3p0_code_demo) # resets existing checks\n",
    "\n",
    "input_parameters = [{\"a0\": [0, 1], \"a1\": [1, 0]},\n",
    "                    {\"a0\": [1, 1], \"a1\": [1, -1]},\n",
    "                    {\"a0\": [0, 2], \"a1\": [2, 1]}]\n",
    "\n",
    "def fingerprint_example(code_input_output):\n",
    "    return np.sum(code_input_output)\n",
    "\n",
    "    \n",
    "check_registry.add_check(\"example3p0_code_demo\",\n",
    "                         input_parameters,\n",
    "                         fingerprint_function=fingerprint_example,\n",
    "                         equal_function=np.allclose) # np.allclose is automatically chosen\n",
    "\n",
    "display(example3p0_code_demo)"
   ]
  }
 ],
 "metadata": {
  "kernelspec": {
   "display_name": "Python 3 (ipykernel)",
   "language": "python",
   "name": "python3"
  },
  "language_info": {
   "codemirror_mode": {
    "name": "ipython",
    "version": 3
   },
   "file_extension": ".py",
   "mimetype": "text/x-python",
   "name": "python",
   "nbconvert_exporter": "python",
   "pygments_lexer": "ipython3",
   "version": "3.8.13"
  }
 },
 "nbformat": 4,
 "nbformat_minor": 5
}
