{
 "cells": [
  {
   "cell_type": "markdown",
   "id": "7f615dcd",
   "metadata": {},
   "source": [
    "### Run all first and then go through the notebook"
   ]
  },
  {
   "cell_type": "code",
   "execution_count": null,
   "id": "ef3fcac8",
   "metadata": {},
   "outputs": [],
   "source": [
    "import numpy as np\n",
    "\n",
    "%matplotlib widget\n",
    "import matplotlib.pyplot as plt\n",
    "\n",
    "from scwidgets import (CodeDemo, ParametersBox, CodeCheckerRegistry, PyplotOutput, ClearedOutput, AnimationOutput,\n",
    "                       AnswerRegistry, CodeCheckerRegistry, GLOBAL_TRAITS)\n",
    "\n",
    "from widget_code_input import WidgetCodeInput"
   ]
  },
  {
   "cell_type": "markdown",
   "id": "844e4ce6",
   "metadata": {},
   "source": [
    "### We make a reference answer file"
   ]
  },
  {
   "cell_type": "code",
   "execution_count": null,
   "id": "2f400602",
   "metadata": {},
   "outputs": [],
   "source": [
    "answer_registry = AnswerRegistry(prefix=\"demo-check_functionality\")\n",
    "display(answer_registry)"
   ]
  },
  {
   "cell_type": "code",
   "execution_count": null,
   "id": "6df83e44",
   "metadata": {},
   "outputs": [],
   "source": [
    "# to prevent error message if no checker file exist \n",
    "GLOBAL_TRAITS.teacher_mode = True"
   ]
  },
  {
   "cell_type": "code",
   "execution_count": null,
   "id": "478a233b",
   "metadata": {},
   "outputs": [],
   "source": [
    "check_registry = CodeCheckerRegistry('checker_file-demo-check_functionality.json') \n",
    "display(check_registry)"
   ]
  },
  {
   "cell_type": "code",
   "execution_count": null,
   "id": "73a4675c",
   "metadata": {},
   "outputs": [],
   "source": [
    "GLOBAL_TRAITS.teacher_mode = False"
   ]
  },
  {
   "cell_type": "code",
   "execution_count": null,
   "id": "2c9e8e1e",
   "metadata": {},
   "outputs": [],
   "source": [
    "# utility function for plotting lattice, not essential for understanding the code demo\n",
    "def plot_lattice(ax, a1, a2, basis=None, alphas=None, s=20, c='red', \n",
    "                 lattice_size = 60, head_length = 0.5, head_width= 0.2, width=0.05):\n",
    "    if basis is None:\n",
    "        basis = np.array([[0,0]])\n",
    "    A = np.array([a1, a2])\n",
    "    # each atom in the basis gets a different basis alpha value when plotted\n",
    "    if alphas is None:\n",
    "        alphas = np.linspace(1, 0.3, len(basis))\n",
    "    for i in range(len(basis)):\n",
    "        lattice = (np.mgrid[:lattice_size,:lattice_size].T @ A + basis[i]).reshape(-1, 2)\n",
    "        lattice -= (np.array([lattice_size//2,lattice_size//2]) @ A).reshape(-1, 2)\n",
    "        ax.scatter(lattice[:,0], lattice[:,1], color=c, s=s, alpha=alphas[i])\n",
    "        \n",
    "    ax.fill([0,a1[0],(a1+a2)[0],a2[0]], [0,a1[1],(a1+a2)[1],a2[1]], color=c, alpha=0.2)\n",
    "    ax.arrow(0,0, a1[0], a1[1],width=width,\n",
    "             length_includes_head=True,\n",
    "             fc=c, ec='black')\n",
    "    ax.arrow(0,0, a2[0], a2[1],width=width,\n",
    "             length_includes_head=True,\n",
    "             fc=c, ec='black')"
   ]
  },
  {
   "cell_type": "markdown",
   "id": "a5102c80",
   "metadata": {},
   "source": [
    "## 1.0 From input arugments, checks for type, shape/len and output are automatically created."
   ]
  },
  {
   "cell_type": "markdown",
   "id": "dac06bf6",
   "metadata": {},
   "source": [
    "### At the moment nested outputs do not work (e.g. tuples or list of arrays). "
   ]
  },
  {
   "cell_type": "code",
   "execution_count": null,
   "id": "93151f22",
   "metadata": {
    "scrolled": false
   },
   "outputs": [],
   "source": [
    "example1p0_code_input = WidgetCodeInput(\n",
    "    function_name=\"reciprocal_lattice\",\n",
    "    function_parameters=\"a0, a1\",\n",
    "    docstring=\"\"\"\n",
    "Return the 2D reciprocal unit cell vectors.\n",
    "\n",
    ":param a0: unit cell vector a0\n",
    ":param a1: unit cell vector a1\n",
    "\n",
    ":return: reciprocal lattice unit cell vectors\n",
    "\"\"\",\n",
    "    function_body=\"\"\"\n",
    "\n",
    "import numpy as np\n",
    "from numpy import pi\n",
    "\n",
    "a0 = np.asarray(a0)\n",
    "a1 = np.asarray(a1)\n",
    "\n",
    "R = np.array([[0,-1],[1,0]])\n",
    "\n",
    "b = np.zeros((2,2))\n",
    "\n",
    "# Click on \"Create check\", \"Save answer\".\n",
    "b[0] = 2*np.pi*R@a1/(a0@R@a1)\n",
    "b[1] = 2*np.pi*R@a0/(a1@R@a0)\n",
    "\n",
    "# Try \"Check\" with one of the out put below\n",
    "# these checks are created automatic\n",
    "\n",
    "# Wrong type\n",
    "#b = 1.\n",
    "\n",
    "# Wrong shape\n",
    "#b = np.ones(2)\n",
    "\n",
    "# Wrong solution\n",
    "#b[0] = 2*pi*a0\n",
    "#b[1] = 2*pi*a1\n",
    "\n",
    "return b\n",
    "\"\"\"\n",
    ")\n",
    "\n",
    "\n",
    "example1p0_code_demo = CodeDemo(\n",
    "    code_input=example1p0_code_input,\n",
    "    code_checker=check_registry,\n",
    "    update_on_input_parameter_change=False\n",
    ")\n",
    "\n",
    "answer_registry.register_answer_widget(\"example1p0_code_demo\", example1p0_code_demo)\n",
    "check_registry.init_checks(\"example1p0_code_demo\", example1p0_code_demo) # resets existing checks\n",
    "\n",
    "input_parameters = [{\"a0\": [0, 1], \"a1\": [1, 0]},\n",
    "                    {\"a0\": [1, 1], \"a1\": [1, -1]},\n",
    "                    {\"a0\": [0, 2], \"a1\": [2, 1]}]\n",
    "check_registry.add_check(\"example1p0_code_demo\",\n",
    "                         input_parameters, equal_function=np.allclose) # np.allclose is automatically chosen\n",
    "display(example1p0_code_demo)"
   ]
  },
  {
   "cell_type": "markdown",
   "id": "ea8131f3",
   "metadata": {},
   "source": [
    "### The above function does hat have checks yet, and therefore raises an error. We activate teacher mode and create a check. Try the different uncommented outputs which invoke different checks."
   ]
  },
  {
   "cell_type": "code",
   "execution_count": null,
   "id": "0e74fd5b",
   "metadata": {},
   "outputs": [],
   "source": [
    "# activate teacher mode\n",
    "#GLOBAL_TRAITS.teacher_mode = True"
   ]
  },
  {
   "cell_type": "markdown",
   "id": "1eedbc4e",
   "metadata": {},
   "source": [
    "### Now we have created a check file for all exercises. We can do this much simpler, once we created the reference answer file. We load the reference file at the top of the notebook where the AnswerRegistry is defined, then click on \"Create all checks\" where the CodeCheckerRegistry is defined."
   ]
  }
 ],
 "metadata": {
  "kernelspec": {
   "display_name": "Python 3",
   "language": "python",
   "name": "python3"
  },
  "language_info": {
   "codemirror_mode": {
    "name": "ipython",
    "version": 3
   },
   "file_extension": ".py",
   "mimetype": "text/x-python",
   "name": "python",
   "nbconvert_exporter": "python",
   "pygments_lexer": "ipython3",
   "version": "3.7.13"
  }
 },
 "nbformat": 4,
 "nbformat_minor": 5
}
