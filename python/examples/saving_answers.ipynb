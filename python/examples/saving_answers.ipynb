{
 "cells": [
  {
   "cell_type": "code",
   "execution_count": null,
   "id": "a031ff5b",
   "metadata": {},
   "outputs": [],
   "source": [
    "from widget_code_input import WidgetCodeInput\n",
    "from scwidgets import (CodeDemo, ParametersBox, CodeChecker, PyplotOutput, ClearedOutput, AnimationOutput, TextareaAnswer, AnswerRegistry)\n",
    "\n",
    "from ipywidgets import Layout, Output\n",
    "import numpy as np"
   ]
  },
  {
   "cell_type": "code",
   "execution_count": null,
   "id": "de658787",
   "metadata": {},
   "outputs": [],
   "source": [
    "answer_registry = AnswerRegistry()\n",
    "display(answer_registry)"
   ]
  },
  {
   "cell_type": "code",
   "execution_count": null,
   "id": "bbf95382",
   "metadata": {},
   "outputs": [],
   "source": [
    "general_comments_textarea = TextareaAnswer(value='General comments on this module', layout=Layout(width='99%'))\n",
    "\n",
    "\n",
    "answer_registry.register_answer_widget(\"general_comments\", general_comments_textarea)\n",
    "\n",
    "\n",
    "\n",
    "display(general_comments_textarea)"
   ]
  },
  {
   "cell_type": "code",
   "execution_count": null,
   "id": "2c2ca049",
   "metadata": {},
   "outputs": [],
   "source": [
    "example2p1_code_input = WidgetCodeInput(\n",
    "        function_name=\"reciprocal_lattice\", \n",
    "        function_parameters=\"a1, a2\",\n",
    "        docstring=\"\"\"\n",
    "Return the 2D reciprocal unit cell vectors.\n",
    "\n",
    ":param a1: unit cell vector a1 \n",
    ":param a2: unit cell vector a2\n",
    "\n",
    ":return: reciprocal lattice unit cell vectors\n",
    "\"\"\",\n",
    "        function_body=\"\"\"\n",
    "\n",
    "import numpy as np\n",
    "from numpy import pi\n",
    "\n",
    "a1 = np.asarray(a1)\n",
    "a2 = np.asarray(a2)\n",
    "\n",
    "R = np.array([[0,-1],[1,0]])\n",
    "\n",
    "# Wrong solution\n",
    "b1 = 2*pi*a1 \n",
    "b2 = 2*pi*a2 \n",
    "\n",
    "# Try correct solution\n",
    "#b1 = 2*np.pi*R@a2/(a1@R@a2)\n",
    "#b2 = 2*np.pi*R@a1/(a2@R@a1)\n",
    "\n",
    "\n",
    "return b1, b2\n",
    "\"\"\"\n",
    ")\n",
    "\n",
    "def compute_reciprocal_lattice_vectors(a1, a2):\n",
    "    R = np.array([[0,-1],[1,0]])\n",
    "    b1 = 2*np.pi*R@a2/(a1@R@a2)\n",
    "    b2 = 2*np.pi*R@a1/(a2@R@a1)\n",
    "    return b1, b2\n",
    "\n",
    "reference_code_parameters = {\n",
    "       input_parameters: compute_reciprocal_lattice_vectors(\n",
    "           np.asarray(input_parameters[0]), np.asarray(input_parameters[1]) \n",
    "       )\n",
    "       for input_parameters in [((0,1), (1,0)), ((1,1), (1,-1)), ((0,2), (2,1))]\n",
    "}\n",
    "\n",
    "reciprocal_lattice_code_checker = CodeChecker(reference_code_parameters, equality_function=np.allclose)\n",
    "\n",
    "example2p1_code_demo = CodeDemo(\n",
    "            code_input=example2p1_code_input,\n",
    "            code_checker=reciprocal_lattice_code_checker,\n",
    "            update_on_params_change=False\n",
    ")\n",
    "\n",
    "answer_registry.register_answer_widget(\"example2p1_code_input\", example2p1_code_demo)"
   ]
  },
  {
   "cell_type": "code",
   "execution_count": null,
   "id": "fb809b99",
   "metadata": {},
   "outputs": [],
   "source": [
    "display(example2p1_code_demo)"
   ]
  },
  {
   "cell_type": "code",
   "execution_count": null,
   "id": "d2f3aab0",
   "metadata": {},
   "outputs": [],
   "source": []
  },
  {
   "cell_type": "code",
   "execution_count": null,
   "id": "44a5e14e",
   "metadata": {},
   "outputs": [],
   "source": []
  }
 ],
 "metadata": {
  "kernelspec": {
   "display_name": "Python 3",
   "language": "python",
   "name": "python3"
  },
  "language_info": {
   "codemirror_mode": {
    "name": "ipython",
    "version": 3
   },
   "file_extension": ".py",
   "mimetype": "text/x-python",
   "name": "python",
   "nbconvert_exporter": "python",
   "pygments_lexer": "ipython3",
   "version": "3.8.5"
  }
 },
 "nbformat": 4,
 "nbformat_minor": 5
}
